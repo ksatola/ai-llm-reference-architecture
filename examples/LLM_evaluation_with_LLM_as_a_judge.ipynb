{
 "cells": [
  {
   "cell_type": "markdown",
   "metadata": {},
   "source": [
    "# LLM Models Comparison using LLM as Judge"
   ]
  },
  {
   "cell_type": "markdown",
   "metadata": {},
   "source": [
    "## Import the Needed Python Packages "
   ]
  },
  {
   "cell_type": "code",
   "execution_count": 1,
   "metadata": {},
   "outputs": [],
   "source": [
    "import os\n",
    "import json\n",
    "from dotenv import load_dotenv\n",
    "from openai import OpenAI\n",
    "from anthropic import Anthropic\n",
    "from IPython.display import Markdown, display\n"
   ]
  },
  {
   "cell_type": "code",
   "execution_count": 2,
   "metadata": {},
   "outputs": [
    {
     "data": {
      "text/plain": [
       "True"
      ]
     },
     "execution_count": 2,
     "metadata": {},
     "output_type": "execute_result"
    }
   ],
   "source": [
    "load_dotenv(override=True)"
   ]
  },
  {
   "cell_type": "code",
   "execution_count": 3,
   "metadata": {},
   "outputs": [
    {
     "name": "stdout",
     "output_type": "stream",
     "text": [
      "OpenAI API Key exists and begins sk-proj-\n",
      "Anthropic API Key exists and begins sk-ant-\n",
      "Google API Key exists and begins AI\n",
      "DeepSeek API Key exists and begins sk-\n",
      "Groq API Key exists and begins gsk_\n"
     ]
    }
   ],
   "source": [
    "openai_api_key = os.getenv('OPENAI_API_KEY')\n",
    "anthropic_api_key = os.getenv('ANTHROPIC_API_KEY')\n",
    "google_api_key = os.getenv('GOOGLE_API_KEY')\n",
    "deepseek_api_key = os.getenv('DEEPSEEK_API_KEY')\n",
    "groq_api_key = os.getenv('GROQ_API_KEY')\n",
    "\n",
    "if openai_api_key:\n",
    "    print(f\"OpenAI API Key exists and begins {openai_api_key[:8]}\")\n",
    "else:\n",
    "    print(\"OpenAI API Key not set\")\n",
    "    \n",
    "if anthropic_api_key:\n",
    "    print(f\"Anthropic API Key exists and begins {anthropic_api_key[:7]}\")\n",
    "else:\n",
    "    print(\"Anthropic API Key not set (and this is optional)\")\n",
    "\n",
    "if google_api_key:\n",
    "    print(f\"Google API Key exists and begins {google_api_key[:2]}\")\n",
    "else:\n",
    "    print(\"Google API Key not set (and this is optional)\")\n",
    "\n",
    "if deepseek_api_key:\n",
    "    print(f\"DeepSeek API Key exists and begins {deepseek_api_key[:3]}\")\n",
    "else:\n",
    "    print(\"DeepSeek API Key not set (and this is optional)\")\n",
    "\n",
    "if groq_api_key:\n",
    "    print(f\"Groq API Key exists and begins {groq_api_key[:4]}\")\n",
    "else:\n",
    "    print(\"Groq API Key not set (and this is optional)\")"
   ]
  },
  {
   "cell_type": "markdown",
   "metadata": {},
   "source": [
    "## LLMs evaluation "
   ]
  },
  {
   "cell_type": "code",
   "execution_count": 4,
   "metadata": {},
   "outputs": [
    {
     "name": "stdout",
     "output_type": "stream",
     "text": [
      "[{'role': 'user', 'content': 'Please come up with a challenging, nuanced question that I can ask a number of LLMs to evaluate their intelligence.Answer only with the question, no explanation.'}]\n"
     ]
    }
   ],
   "source": [
    "request = \"Please come up with a challenging, nuanced question that I can ask a number of LLMs to evaluate their intelligence.\"\n",
    "request += \"Answer only with the question, no explanation.\"\n",
    "messages = [{\"role\": \"user\", \"content\": request}]\n",
    "print(messages)"
   ]
  },
  {
   "cell_type": "markdown",
   "metadata": {},
   "source": [
    "### OpenAI to generate a challenge"
   ]
  },
  {
   "cell_type": "code",
   "execution_count": 5,
   "metadata": {},
   "outputs": [
    {
     "name": "stdout",
     "output_type": "stream",
     "text": [
      "How would you reconcile the ethical implications of deploying autonomous surveillance systems in public spaces with the need to preserve individual privacy rights, considering diverse cultural attitudes towards privacy and security?\n"
     ]
    }
   ],
   "source": [
    "model = OpenAI()\n",
    "response = model.chat.completions.create(\n",
    "    model=\"gpt-4.1-mini\",\n",
    "    messages=messages,\n",
    ")\n",
    "question = response.choices[0].message.content\n",
    "print(question)"
   ]
  },
  {
   "cell_type": "code",
   "execution_count": 6,
   "metadata": {},
   "outputs": [],
   "source": [
    "messages = [{\"role\": \"user\", \"content\": question}]\n",
    "competitors = []\n",
    "answers = []\n",
    "models = []"
   ]
  },
  {
   "cell_type": "markdown",
   "metadata": {},
   "source": [
    "### Response: OpenAI"
   ]
  },
  {
   "cell_type": "code",
   "execution_count": 7,
   "metadata": {},
   "outputs": [
    {
     "data": {
      "text/markdown": [
       "Reconciling the ethical implications of deploying autonomous surveillance systems in public spaces with the preservation of individual privacy rights—especially in light of diverse cultural attitudes toward privacy and security—requires a multifaceted, context-sensitive approach. Here are key strategies and principles to consider:\n",
       "\n",
       "### 1. **Principle of Proportionality and Necessity**\n",
       "- **Assess the purpose:** Surveillance should be deployed only when there is a clear, compelling public interest (e.g., preventing serious crimes or ensuring public safety).\n",
       "- **Limit the scope:** Collect only the data necessary for the stated purpose, avoiding excessive or indiscriminate monitoring.\n",
       "\n",
       "### 2. **Transparency and Accountability**\n",
       "- **Inform the public:** Clearly communicate what data is being collected, how it is used, and how long it is retained.\n",
       "- **Enable oversight:** Establish independent oversight bodies that can audit the systems and processes, ensuring accountability and addressing misuse or abuse.\n",
       "\n",
       "### 3. **Privacy by Design**\n",
       "- **Embed privacy protections:** Implement technical measures such as data minimization, anonymization, encryption, and secure storage.\n",
       "- **Enable control:** Where feasible, allow individuals some degree of control over how their data is collected and used.\n",
       "\n",
       "### 4. **Respect for Cultural Diversity**\n",
       "- **Contextualize deployment:** Understand and respect local cultural norms and values regarding privacy and security.\n",
       "- **Engage communities:** Involve diverse stakeholders—including marginalized and vulnerable groups—in dialogue and decision-making to identify acceptable trade-offs.\n",
       "\n",
       "### 5. **Legal and Ethical Frameworks**\n",
       "- **Adhere to law:** Ensure surveillance complies with national laws and international human rights standards.\n",
       "- **Ethical guidance:** Develop and apply ethical guidelines that emphasize human dignity, freedom, and proportionality.\n",
       "\n",
       "### 6. **Regular Review and Adaptation**\n",
       "- **Continuous evaluation:** Regularly assess the impact of surveillance on privacy and security, adjusting policies and technologies as needed.\n",
       "- **Sunset clauses:** Where appropriate, set expiration dates for surveillance programs to avoid indefinite data collection.\n",
       "\n",
       "---\n",
       "\n",
       "### Example Implementation Scenario:\n",
       "In a culturally privacy-sensitive society, an autonomous surveillance system designed to deter violent crime might operate with strict anonymization by default, only flagging specific behaviors rather than capturing identifiable images. Public consultation informs system design, and an independent privacy board oversees data handling. By contrast, in a society that prioritizes collective security over individual privacy, more detailed monitoring might be accepted, but still under transparent regulatory oversight.\n",
       "\n",
       "---\n",
       "\n",
       "### Summary\n",
       "Balancing ethical concerns requires respecting individual privacy, ensuring transparency and accountability, adapting to cultural values, and limiting surveillance to legitimate needs. This approach helps maintain public trust while leveraging technology to enhance security in a way that honors diverse perspectives on privacy."
      ],
      "text/plain": [
       "<IPython.core.display.Markdown object>"
      ]
     },
     "metadata": {},
     "output_type": "display_data"
    }
   ],
   "source": [
    "model_name = \"gpt-4.1-mini\"\n",
    "\n",
    "response = model.chat.completions.create(model=model_name, messages=messages)\n",
    "answer = response.choices[0].message.content\n",
    "\n",
    "display(Markdown(answer))\n",
    "competitors.append(model_name)\n",
    "answers.append(answer)\n",
    "models.append(model)"
   ]
  },
  {
   "cell_type": "markdown",
   "metadata": {},
   "source": [
    "### Response: Anthropic"
   ]
  },
  {
   "cell_type": "code",
   "execution_count": 8,
   "metadata": {},
   "outputs": [
    {
     "data": {
      "text/markdown": [
       "# Reconciling Autonomous Surveillance and Privacy Rights\n",
       "\n",
       "This complex issue requires balancing multiple considerations:\n",
       "\n",
       "## Key Tensions\n",
       "- Public safety and security benefits vs. fundamental privacy rights\n",
       "- Technological capabilities vs. ethical boundaries\n",
       "- State/corporate interests vs. individual autonomy\n",
       "\n",
       "## Potential Reconciliation Approaches\n",
       "\n",
       "**Transparency and Consent Mechanisms**\n",
       "- Clear signage about surveillance areas and capabilities\n",
       "- Opt-in features where feasible, especially for identity recognition\n",
       "- Public education about data collection scope and limitations\n",
       "\n",
       "**Cultural Contextualization**\n",
       "- Recognize that privacy expectations vary significantly across cultures\n",
       "- Adapt implementation based on local values and democratic processes\n",
       "- Avoid imposing one cultural framework universally\n",
       "\n",
       "**Technical Safeguards**\n",
       "- Privacy-by-design principles with data minimization\n",
       "- Anonymization techniques where identification isn't essential\n",
       "- Decentralized data storage with robust security\n",
       "\n",
       "**Governance Frameworks**\n",
       "- Independent oversight committees with diverse representation\n",
       "- Regular privacy impact assessments with public reporting\n",
       "- Clear limitations on data sharing and purpose restrictions\n",
       "\n",
       "The most ethical approach likely involves finding a middle path that acknowledges both legitimate security concerns and the fundamental right to privacy, while remaining sensitive to different cultural contexts."
      ],
      "text/plain": [
       "<IPython.core.display.Markdown object>"
      ]
     },
     "metadata": {},
     "output_type": "display_data"
    }
   ],
   "source": [
    "model_name = \"claude-3-7-sonnet-latest\"\n",
    "\n",
    "model = Anthropic()\n",
    "response = model.messages.create(model=model_name, messages=messages, max_tokens=1000)\n",
    "answer = response.content[0].text\n",
    "\n",
    "display(Markdown(answer))\n",
    "competitors.append(model_name)\n",
    "answers.append(answer)\n",
    "models.append(model)"
   ]
  },
  {
   "cell_type": "markdown",
   "metadata": {},
   "source": [
    "### Response: Google"
   ]
  },
  {
   "cell_type": "code",
   "execution_count": 9,
   "metadata": {},
   "outputs": [
    {
     "data": {
      "text/markdown": [
       "Reconciling the ethical implications of autonomous surveillance systems (ASS) with individual privacy rights, while navigating diverse cultural attitudes, is a complex challenge requiring a multi-faceted approach. Here's a breakdown of how we might approach this:\n",
       "\n",
       "**1. Establishing Clear Ethical Guidelines & Legal Frameworks:**\n",
       "\n",
       "*   **Purpose Limitation:**  ASS deployment must be justified by a specific, demonstrable, and legitimate public interest. This prevents \"surveillance creep\" and function creep (using the data for purposes beyond the original intent). Examples:  reducing violent crime in known hotspots, improving traffic flow to reduce pollution.\n",
       "*   **Necessity and Proportionality:** The use of ASS should be a last resort, only deployed when less intrusive methods are insufficient to achieve the legitimate aim. The level of surveillance should be proportional to the threat and the potential benefits.  For instance, using facial recognition to identify jaywalkers would likely be considered disproportionate.\n",
       "*   **Data Minimization:**  Collect only the minimum amount of data necessary to achieve the stated purpose. Avoid collecting and storing personal data irrelevant to the specific objective. Data retention periods should be clearly defined and limited.\n",
       "*   **Transparency and Accountability:**  Publicly disclose the deployment of ASS, including its purpose, capabilities, data retention policies, and responsible party.  Establish clear lines of accountability for misuse or breaches of privacy. Independent oversight bodies can provide further scrutiny.\n",
       "*   **Human Oversight:**  Autonomous systems should not operate without human oversight.  Human operators should be responsible for making critical decisions based on the information gathered by ASS and for responding to potential biases or errors.  This prevents automation bias and ensures ethical considerations are always present.\n",
       "*   **Auditing and Evaluation:**  Regularly audit the performance of ASS to ensure they are achieving their intended purpose and not disproportionately impacting specific groups or communities. Evaluate the effectiveness of the system and its impact on privacy.\n",
       "\n",
       "**2. Technical Safeguards for Privacy Protection:**\n",
       "\n",
       "*   **Privacy-Enhancing Technologies (PETs):**  Implement technologies that minimize the collection and storage of personal data. Examples include:\n",
       "    *   **Differential Privacy:** Adding noise to data to protect individual identities while allowing for statistical analysis.\n",
       "    *   **Federated Learning:**  Training AI models on decentralized data sources without directly accessing or sharing raw data.\n",
       "    *   **Homomorphic Encryption:** Performing computations on encrypted data without decrypting it.\n",
       "    *   **Anonymization/Pseudonymization:** Removing or masking identifying information.\n",
       "*   **Edge Computing:** Processing data locally on the device rather than sending it to a central server, reducing the risk of data breaches and improving privacy.\n",
       "*   **Selective Surveillance:**  Design the system to target specific behaviors or events rather than continuously monitoring entire populations.  For example, detecting unusual crowd movements suggestive of a potential threat.\n",
       "*   **Blurring/Masking:**  Blurring faces or license plates in video footage unless specifically needed for investigation.\n",
       "\n",
       "**3. Addressing Diverse Cultural Attitudes:**\n",
       "\n",
       "*   **Community Engagement:**  Engage with diverse communities to understand their specific concerns and values regarding privacy and security. This involves public consultations, workshops, and forums.  Respect local customs and traditions related to privacy.\n",
       "*   **Culturally Sensitive Design:** Tailor the design and deployment of ASS to reflect the specific cultural context.  What is considered acceptable surveillance in one culture may be unacceptable in another.\n",
       "*   **Privacy Impact Assessments (PIA):**  Conduct PIAs that specifically consider the potential impact of ASS on different cultural groups.  These assessments should identify and address any potential biases or discriminatory effects.\n",
       "*   **Multi-Stakeholder Dialogue:**  Establish platforms for dialogue between government agencies, technology developers, civil society organizations, and the public to discuss the ethical and societal implications of ASS.\n",
       "*   **Education and Awareness:**  Educate the public about the capabilities of ASS, the potential risks to privacy, and the safeguards that are in place.  Empower individuals to make informed decisions about their privacy.\n",
       "*   **Variable Consent Mechanisms:**  Explore different consent mechanisms that allow individuals to opt-in or opt-out of certain types of surveillance, depending on their cultural values and preferences.  This might involve different levels of anonymization or data retention.\n",
       "\n",
       "**4. Emphasizing Benefits and Building Trust:**\n",
       "\n",
       "*   **Transparency about Benefits:** Clearly communicate the benefits of ASS to the public, focusing on how it can improve public safety, security, or quality of life.  Provide evidence to support these claims.\n",
       "*   **Demonstrate Accountability:**  Actively address concerns about privacy violations or misuse of data.  Hold those responsible accountable for their actions.\n",
       "*   **Focus on Prevention, Not Just Detection:**  Design ASS to prevent crime and promote positive social outcomes, rather than simply detecting and punishing offenders.  For example, using ASS to improve traffic flow and reduce accidents.\n",
       "*   **Empowerment, Not Just Control:**  Consider how ASS can be used to empower individuals and communities, rather than simply controlling their behavior. For example, providing real-time information about public transportation or emergency situations.\n",
       "\n",
       "**Challenges and Ongoing Considerations:**\n",
       "\n",
       "*   **Bias in Algorithms:**  Algorithms used in ASS can be biased based on the data they are trained on. This can lead to discriminatory outcomes.  Ongoing efforts are needed to identify and mitigate bias in AI.\n",
       "*   **Evolving Technology:**  ASS technology is rapidly evolving, making it difficult to keep pace with the ethical and legal implications.  Continuous monitoring and adaptation of regulations are essential.\n",
       "*   **Global Harmonization:**  International cooperation is needed to develop common standards and best practices for the deployment of ASS.\n",
       "*   **Balancing Security and Freedom:**  Finding the right balance between security and freedom is an ongoing challenge.  Societies must be willing to have difficult conversations about the trade-offs involved.\n",
       "\n",
       "**In conclusion, reconciling the ethical implications of ASS with privacy rights requires a multi-layered approach that combines strong legal frameworks, robust technical safeguards, culturally sensitive engagement, and a commitment to transparency and accountability. There is no one-size-fits-all solution, and ongoing dialogue and adaptation are crucial to ensure that ASS are used responsibly and ethically in a diverse and evolving world.**\n"
      ],
      "text/plain": [
       "<IPython.core.display.Markdown object>"
      ]
     },
     "metadata": {},
     "output_type": "display_data"
    }
   ],
   "source": [
    "model = OpenAI(api_key=google_api_key, base_url=\"https://generativelanguage.googleapis.com/v1beta/openai/\")\n",
    "model_name = \"gemini-2.0-flash\"\n",
    "\n",
    "response = model.chat.completions.create(model=model_name, messages=messages)\n",
    "answer = response.choices[0].message.content\n",
    "\n",
    "display(Markdown(answer))\n",
    "competitors.append(model_name)\n",
    "answers.append(answer)\n",
    "models.append(model)"
   ]
  },
  {
   "cell_type": "markdown",
   "metadata": {},
   "source": [
    "### Response: Deepseek"
   ]
  },
  {
   "cell_type": "code",
   "execution_count": 10,
   "metadata": {},
   "outputs": [
    {
     "data": {
      "text/markdown": [
       "The deployment of autonomous surveillance systems in public spaces presents a complex ethical challenge that requires balancing collective security with individual privacy rights, especially given diverse cultural perspectives on these values. Here’s a framework for reconciliation:\n",
       "\n",
       "### **1. Contextual and Proportional Deployment**\n",
       "   - **Purpose Limitation**: Surveillance should be narrowly tailored to specific, legitimate purposes (e.g., crime prevention, traffic management) rather than indiscriminate monitoring.\n",
       "   - **Risk-Based Approach**: Deploy systems only in high-risk areas where benefits demonstrably outweigh privacy intrusions (e.g., transport hubs vs. residential neighborhoods).\n",
       "\n",
       "### **2. Legal and Regulatory Safeguards**\n",
       "   - **Transparency**: Publicly disclose the use, scope, and capabilities of surveillance systems, including data retention policies.\n",
       "   - **Consent & Opt-Outs**: Where culturally appropriate, allow opt-outs for non-essential surveillance (e.g., in low-risk areas or private-public spaces like malls).\n",
       "   - **Data Minimization**: Collect only necessary data, anonymize where possible, and implement strict deletion timelines.\n",
       "\n",
       "### **3. Cultural Sensitivity & Public Participation**\n",
       "   - **Community Engagement**: Involve local stakeholders in decision-making to align systems with cultural norms (e.g., some societies prioritize security over privacy, while others resist state monitoring).\n",
       "   - **Adaptive Policies**: Allow regional or municipal flexibility in deployment based on local attitudes (e.g., stricter rules in privacy-conscious regions like the EU vs. more permissive approaches in security-focused contexts).\n",
       "\n",
       "### **4. Technological Mitigations**\n",
       "   - **Privacy-Enhancing Technologies (PETs)**: Use techniques like edge computing (processing data locally without storage), blurring faces in non-critical analysis, or differential privacy to minimize identifiability.\n",
       "   - **Bias Audits**: Regularly test systems for discriminatory outcomes (e.g., racial/gender bias in facial recognition) to prevent harm to marginalized groups.\n",
       "\n",
       "### **5. Oversight & Accountability**\n",
       "   - **Independent Review Boards**: Establish ethics committees with diverse representation to oversee deployments and investigate misuse.\n",
       "   - **Redress Mechanisms**: Provide accessible avenues for individuals to challenge surveillance (e.g., requesting data deletion or filing complaints).\n",
       "\n",
       "### **6. International Standards & Cooperation**\n",
       "   - **Cross-Border Frameworks**: Align with global guidelines (e.g., GDPR principles, OECD AI recommendations) while respecting local variations.\n",
       "   - **Human Rights Alignment**: Ensure systems comply with universal rights (e.g., UN guidelines on privacy in digital surveillance).\n",
       "\n",
       "### **Reconciliation in Practice**\n",
       "- **Example 1**: In a city with high crime but strong privacy concerns, deploy surveillance with real-time anonymization and sunset clauses requiring renewal based on efficacy reviews.  \n",
       "- **Example 2**: In a culture valuing communal safety (e.g., Singapore), emphasize transparency about benefits while allowing opt-outs in non-critical zones.  \n",
       "\n",
       "### **Conclusion**\n",
       "The ethical balance hinges on **proportionality, accountability, and adaptability**. By embedding privacy protections into design, engaging communities, and enforcing strict oversight, societies can harness surveillance benefits without eroding fundamental rights. Cultural diversity demands solutions that are neither one-size-fits-all nor absolute but instead contextually negotiated."
      ],
      "text/plain": [
       "<IPython.core.display.Markdown object>"
      ]
     },
     "metadata": {},
     "output_type": "display_data"
    }
   ],
   "source": [
    "model = OpenAI(api_key=deepseek_api_key, base_url=\"https://api.deepseek.com/v1\")\n",
    "model_name = \"deepseek-chat\"\n",
    "\n",
    "response = model.chat.completions.create(model=model_name, messages=messages)\n",
    "answer = response.choices[0].message.content\n",
    "\n",
    "display(Markdown(answer))\n",
    "competitors.append(model_name)\n",
    "answers.append(answer)\n",
    "models.append(model)"
   ]
  },
  {
   "cell_type": "markdown",
   "metadata": {},
   "source": [
    "### Response: Groq"
   ]
  },
  {
   "cell_type": "code",
   "execution_count": 11,
   "metadata": {},
   "outputs": [
    {
     "data": {
      "text/markdown": [
       "Reconciling the ethical implications of deploying autonomous surveillance systems in public spaces with the need to preserve individual privacy rights is a complex issue that involves balancing individual rights with societal needs, while also considering diverse cultural attitudes towards privacy and security. Here are some steps to achieve this balance:\n",
       "\n",
       "1. **Establish clear policies and regulations**: Governments and regulatory bodies should develop and implement clear policies and guidelines for the deployment and use of autonomous surveillance systems in public spaces, taking into account the principles of necessity, proportionality, and transparency.\n",
       "2. **Conduct public consultations and education**: Engage with diverse stakeholders, including community groups, civil society organizations, and individual citizens, to raise awareness about the benefits and risks of autonomous surveillance systems and gather feedback on their concerns and expectations.\n",
       "3. **Implement privacy-enhancing technologies**: Incorporate privacy-enhancing technologies, such as data anonymization, encryption, and secure data storage, into the design and operation of autonomous surveillance systems to minimize the collection and retention of personal data.\n",
       "4. **Define and limit data collection and use**: Clearly define the purposes for which data collected by autonomous surveillance systems can be used, and limit data collection to only what is strictly necessary to achieve those purposes.\n",
       "5. **Ensure accountability and oversight**: Establish independent oversight bodies to monitor the deployment and use of autonomous surveillance systems, investigate complaints, and ensure that operators comply with regulations and guidelines.\n",
       "6. **Respect cultural differences and contextualize deployment**: Consider diverse cultural attitudes towards privacy and security when deploying autonomous surveillance systems, and contextualize their deployment to reflect local norms and values.\n",
       "7. **Foster transparency and explainability**: Provide clear information about the deployment and operation of autonomous surveillance systems, including the data they collect, how it is used, and the algorithms and decision-making processes involved.\n",
       "8. **Implement robust data protection measures**: Implement robust data protection measures, such as access controls, data encryption, and secure data storage, to prevent unauthorized access, misuse, or exploitation of personal data.\n",
       "9. **Ensure human oversight and review**: Implement human oversight and review mechanisms to detect and correct errors, biases, or unfair outcomes resulting from the use of autonomous surveillance systems.\n",
       "10. **Continuously monitor and evaluate**: Continuously monitor and evaluate the impact of autonomous surveillance systems on individual privacy rights and societal security, and make adjustments as needed to ensure that they are used in a way that respects human rights and dignity.\n",
       "\n",
       "**Diverse cultural attitudes towards privacy and security**:\n",
       "\n",
       "1. **Collectivist vs. individualist cultures**: In collectivist cultures, the priority may be on group security and social harmony, while in individualist cultures, the emphasis may be on individual privacy and autonomy.\n",
       "2. **High-context vs. low-context cultures**: In high-context cultures, relationships and social norms may play a larger role in shaping attitudes towards privacy and security, while in low-context cultures, the focus may be on individual rights and freedoms.\n",
       "3. **Different perceptions of risk and trust**: Cultures may have different perceptions of risk and trust, influencing their attitudes towards autonomous surveillance systems and their willingness to accept trade-offs between security and privacy.\n",
       "\n",
       "**Preserving individual privacy rights**:\n",
       "\n",
       "1. **Data minimization**: Collect only the minimum amount of data necessary to achieve the intended purpose.\n",
       "2. **Anonymization and pseudonymization**: Use techniques to anonymize or pseudonymize data, making it more difficult to identify individuals.\n",
       "3. **Access controls**: Implement strict access controls to ensure that only authorized personnel can access and process personal data.\n",
       "4. **Right to opt-out**: Provide individuals with the right to opt-out of being surveilled or to request that their data be deleted.\n",
       "5. **Right to explanation**: Provide individuals with the right to receive explanations about how their data is being used and what decisions are being made about them.\n",
       "\n",
       "By following these steps and considering diverse cultural attitudes towards privacy and security, it is possible to reconcile the ethical implications of deploying autonomous surveillance systems in public spaces with the need to preserve individual privacy rights."
      ],
      "text/plain": [
       "<IPython.core.display.Markdown object>"
      ]
     },
     "metadata": {},
     "output_type": "display_data"
    }
   ],
   "source": [
    "model = OpenAI(api_key=groq_api_key, base_url=\"https://api.groq.com/openai/v1\")\n",
    "model_name = \"llama-3.3-70b-versatile\"\n",
    "\n",
    "response = model.chat.completions.create(model=model_name, messages=messages)\n",
    "answer = response.choices[0].message.content\n",
    "\n",
    "display(Markdown(answer))\n",
    "competitors.append(model_name)\n",
    "answers.append(answer)\n",
    "models.append(model)"
   ]
  },
  {
   "cell_type": "markdown",
   "metadata": {},
   "source": [
    "### Response: Ollama (local service): XXXXX"
   ]
  },
  {
   "cell_type": "code",
   "execution_count": 12,
   "metadata": {},
   "outputs": [
    {
     "name": "stdout",
     "output_type": "stream",
     "text": [
      "\u001b[?2026h\u001b[?25l\u001b[1Gpulling manifest ⠋ \u001b[K\u001b[?25h\u001b[?2026l\u001b[?2026h\u001b[?25l\u001b[1Gpulling manifest ⠙ \u001b[K\u001b[?25h\u001b[?2026l\u001b[?2026h\u001b[?25l\u001b[1Gpulling manifest ⠹ \u001b[K\u001b[?25h\u001b[?2026l\u001b[?2026h\u001b[?25l\u001b[1Gpulling manifest ⠸ \u001b[K\u001b[?25h\u001b[?2026l\u001b[?2026h\u001b[?25l\u001b[1Gpulling manifest ⠼ \u001b[K\u001b[?25h\u001b[?2026l\u001b[?2026h\u001b[?25l\u001b[1Gpulling manifest ⠴ \u001b[K\u001b[?25h\u001b[?2026l\u001b[?2026h\u001b[?25l\u001b[1Gpulling manifest \u001b[K\n",
      "pulling 102a747c1376: 100% ▕██████████████████▏  14 GB                         \u001b[K\n",
      "pulling 6db27cd4e277: 100% ▕██████████████████▏  695 B                         \u001b[K\n",
      "pulling 6d7b25ffd247: 100% ▕██████████████████▏  644 B                         \u001b[K\n",
      "pulling 43070e2d4e53: 100% ▕██████████████████▏  11 KB                         \u001b[K\n",
      "pulling e0daf17ff83e: 100% ▕██████████████████▏   21 B                         \u001b[K\n",
      "pulling 41ffc852c4b6: 100% ▕██████████████████▏  562 B                         \u001b[K\n",
      "verifying sha256 digest \u001b[K\n",
      "writing manifest \u001b[K\n",
      "success \u001b[K\u001b[?25h\u001b[?2026l\n"
     ]
    }
   ],
   "source": [
    "# Run `ollama serve` in the terminal first\n",
    "#!ollama pull llama3.2:latest\n",
    "!ollama pull mistral-small:latest"
   ]
  },
  {
   "cell_type": "code",
   "execution_count": 13,
   "metadata": {},
   "outputs": [
    {
     "data": {
      "text/markdown": [
       "Reconciling the ethical implications of deploying autonomous surveillance systems in public spaces with the need to preserve individual privacy rights is a complex task that requires a balanced approach. Here are some steps and considerations to address this challenge while taking into account diverse cultural attitudes:\n",
       "\n",
       "### 1. **Public Consultation and Transparency**\n",
       "- **Engage Stakeholders**: Involve the public, local communities, and privacy advocacy groups in discussions from the outset. Understand their concerns and expectations.\n",
       "- **Transparency**: Clearly communicate how surveillance systems will be used, what data will be collected, who will have access to it, and for what purposes.\n",
       "\n",
       "### 2. **Regulatory Frameworks**\n",
       "- **Legal Compliance**: Ensure that the deployment of surveillance systems adheres to existing laws and regulations regarding privacy rights.\n",
       "- **Data Protection**: Implement robust data protection measures, including encryption, anonymization, and secure storage practices. Ensure compliance with international standards like GDPR or CCPA.\n",
       "\n",
       "### 3. **Cultural Sensitivity**\n",
       "- **Contextual Understanding**: Recognize that attitudes towards privacy and security vary widely across cultures. For example, some societies may prioritize security over individual privacy.\n",
       "- **Tailored Approaches**: Design surveillance policies and technologies to reflect the specific cultural norms and legal frameworks of different regions.\n",
       "\n",
       "### 4. **Ethical Guidelines**\n",
       "- **Proportionate Measures**: Ensure that the scope and intensity of surveillance are proportionate to the risks they aim to mitigate. Avoid over-surveillance.\n",
       "- **Minimization Principles**: Collect only the data that is necessary for achieving legitimate purposes, and retain it for as short a period as possible.\n",
       "\n",
       "### 5. **Technological Safeguards**\n",
       "- **Data Anonymization**: Use techniques like facial blur and anonymization to protect individual identities in surveillance footage.\n",
       "- **Audit Trails**: Implement systems that log access to surveillance data, ensuring accountability and deterring misuse.\n",
       "- **Biometric Data Regulation**: Be cautious with biometrics; obtain explicit consent for the collection of such sensitive data.\n",
       "\n",
       "### 6. **Oversight Mechanisms**\n",
       "- **Independent Review**:\n",
       "**Independent review bodies should periodically assess the impact of surveillance systems on privacy rights.**\n",
       "   - Ombudsman: Appoint an ombudsman to oversee the ethical use of surveillance technologies.\n",
       "- **Ethics Committees**: Establish ethics committees comprising diverse stakeholders (e.g., legal experts, ethicists, community representatives) to monitor and guide the deployment and operation of these systems.\n",
       "\n",
       "### 7. **Educational Outreach**\n",
       "- **Awareness Campaigns:** Educate the public about their rights and the purpose of surveillance systems to avoid misunderstandings.\n",
       "- **Privacy Literacy**: Promote privacy literacy so that individuals understand how their data is being used and can make informed decisions.\n",
       "\n",
       "### 8. **Continuous Evaluation**\n",
       "- **Impact Assessments**: Conduct regular impact assessments to evaluate the effectiveness, fairness, and ethical implications of surveillance systems. Adjust policies as needed.\n",
       "- **Feedback Loops**: Create mechanisms for continuous feedback from affected communities to adapt practices on an ongoing basis.\n",
       "\n",
       "By integrating these considerations, it is possible to deploy autonomous surveillance systems in a manner that respects individual privacy rights while addressing legitimate security concerns across diverse cultural contexts."
      ],
      "text/plain": [
       "<IPython.core.display.Markdown object>"
      ]
     },
     "metadata": {},
     "output_type": "display_data"
    }
   ],
   "source": [
    "model = OpenAI(base_url='http://localhost:11434/v1', api_key='ollama')\n",
    "model_name = \"mistral-small:latest\"\n",
    "\n",
    "response = model.chat.completions.create(model=model_name, messages=messages)\n",
    "answer = response.choices[0].message.content\n",
    "\n",
    "display(Markdown(answer))\n",
    "competitors.append(model_name)\n",
    "answers.append(answer)\n",
    "models.append(model)"
   ]
  },
  {
   "cell_type": "markdown",
   "metadata": {},
   "source": [
    "## Comparison"
   ]
  },
  {
   "cell_type": "code",
   "execution_count": 14,
   "metadata": {},
   "outputs": [
    {
     "name": "stdout",
     "output_type": "stream",
     "text": [
      "['gpt-4.1-mini', 'claude-3-7-sonnet-latest', 'gemini-2.0-flash', 'deepseek-chat', 'llama-3.3-70b-versatile', 'mistral-small:latest']\n"
     ]
    }
   ],
   "source": [
    "print(competitors)\n",
    "#print(answers)"
   ]
  },
  {
   "cell_type": "code",
   "execution_count": 15,
   "metadata": {},
   "outputs": [],
   "source": [
    "#for competitor, answer in zip(competitors, answers):\n",
    "#    print(f\"Competitor: {competitor}\\n\\n{answer}\")"
   ]
  },
  {
   "cell_type": "code",
   "execution_count": 16,
   "metadata": {},
   "outputs": [
    {
     "name": "stdout",
     "output_type": "stream",
     "text": [
      "# Response from competitor 1\n",
      "\n",
      "Reconciling the ethical implications of deploying autonomous surveillance systems in public spaces with the preservation of individual privacy rights—especially in light of diverse cultural attitudes toward privacy and security—requires a multifaceted, context-sensitive approach. Here are key strategies and principles to consider:\n",
      "\n",
      "### 1. **Principle of Proportionality and Necessity**\n",
      "- **Assess the purpose:** Surveillance should be deployed only when there is a clear, compelling public interest (e.g., preventing serious crimes or ensuring public safety).\n",
      "- **Limit the scope:** Collect only the data necessary for the stated purpose, avoiding excessive or indiscriminate monitoring.\n",
      "\n",
      "### 2. **Transparency and Accountability**\n",
      "- **Inform the public:** Clearly communicate what data is being collected, how it is used, and how long it is retained.\n",
      "- **Enable oversight:** Establish independent oversight bodies that can audit the systems and processes, ensuring accountability and addressing misuse or abuse.\n",
      "\n",
      "### 3. **Privacy by Design**\n",
      "- **Embed privacy protections:** Implement technical measures such as data minimization, anonymization, encryption, and secure storage.\n",
      "- **Enable control:** Where feasible, allow individuals some degree of control over how their data is collected and used.\n",
      "\n",
      "### 4. **Respect for Cultural Diversity**\n",
      "- **Contextualize deployment:** Understand and respect local cultural norms and values regarding privacy and security.\n",
      "- **Engage communities:** Involve diverse stakeholders—including marginalized and vulnerable groups—in dialogue and decision-making to identify acceptable trade-offs.\n",
      "\n",
      "### 5. **Legal and Ethical Frameworks**\n",
      "- **Adhere to law:** Ensure surveillance complies with national laws and international human rights standards.\n",
      "- **Ethical guidance:** Develop and apply ethical guidelines that emphasize human dignity, freedom, and proportionality.\n",
      "\n",
      "### 6. **Regular Review and Adaptation**\n",
      "- **Continuous evaluation:** Regularly assess the impact of surveillance on privacy and security, adjusting policies and technologies as needed.\n",
      "- **Sunset clauses:** Where appropriate, set expiration dates for surveillance programs to avoid indefinite data collection.\n",
      "\n",
      "---\n",
      "\n",
      "### Example Implementation Scenario:\n",
      "In a culturally privacy-sensitive society, an autonomous surveillance system designed to deter violent crime might operate with strict anonymization by default, only flagging specific behaviors rather than capturing identifiable images. Public consultation informs system design, and an independent privacy board oversees data handling. By contrast, in a society that prioritizes collective security over individual privacy, more detailed monitoring might be accepted, but still under transparent regulatory oversight.\n",
      "\n",
      "---\n",
      "\n",
      "### Summary\n",
      "Balancing ethical concerns requires respecting individual privacy, ensuring transparency and accountability, adapting to cultural values, and limiting surveillance to legitimate needs. This approach helps maintain public trust while leveraging technology to enhance security in a way that honors diverse perspectives on privacy.\n",
      "\n",
      "# Response from competitor 2\n",
      "\n",
      "# Reconciling Autonomous Surveillance and Privacy Rights\n",
      "\n",
      "This complex issue requires balancing multiple considerations:\n",
      "\n",
      "## Key Tensions\n",
      "- Public safety and security benefits vs. fundamental privacy rights\n",
      "- Technological capabilities vs. ethical boundaries\n",
      "- State/corporate interests vs. individual autonomy\n",
      "\n",
      "## Potential Reconciliation Approaches\n",
      "\n",
      "**Transparency and Consent Mechanisms**\n",
      "- Clear signage about surveillance areas and capabilities\n",
      "- Opt-in features where feasible, especially for identity recognition\n",
      "- Public education about data collection scope and limitations\n",
      "\n",
      "**Cultural Contextualization**\n",
      "- Recognize that privacy expectations vary significantly across cultures\n",
      "- Adapt implementation based on local values and democratic processes\n",
      "- Avoid imposing one cultural framework universally\n",
      "\n",
      "**Technical Safeguards**\n",
      "- Privacy-by-design principles with data minimization\n",
      "- Anonymization techniques where identification isn't essential\n",
      "- Decentralized data storage with robust security\n",
      "\n",
      "**Governance Frameworks**\n",
      "- Independent oversight committees with diverse representation\n",
      "- Regular privacy impact assessments with public reporting\n",
      "- Clear limitations on data sharing and purpose restrictions\n",
      "\n",
      "The most ethical approach likely involves finding a middle path that acknowledges both legitimate security concerns and the fundamental right to privacy, while remaining sensitive to different cultural contexts.\n",
      "\n",
      "# Response from competitor 3\n",
      "\n",
      "Reconciling the ethical implications of autonomous surveillance systems (ASS) with individual privacy rights, while navigating diverse cultural attitudes, is a complex challenge requiring a multi-faceted approach. Here's a breakdown of how we might approach this:\n",
      "\n",
      "**1. Establishing Clear Ethical Guidelines & Legal Frameworks:**\n",
      "\n",
      "*   **Purpose Limitation:**  ASS deployment must be justified by a specific, demonstrable, and legitimate public interest. This prevents \"surveillance creep\" and function creep (using the data for purposes beyond the original intent). Examples:  reducing violent crime in known hotspots, improving traffic flow to reduce pollution.\n",
      "*   **Necessity and Proportionality:** The use of ASS should be a last resort, only deployed when less intrusive methods are insufficient to achieve the legitimate aim. The level of surveillance should be proportional to the threat and the potential benefits.  For instance, using facial recognition to identify jaywalkers would likely be considered disproportionate.\n",
      "*   **Data Minimization:**  Collect only the minimum amount of data necessary to achieve the stated purpose. Avoid collecting and storing personal data irrelevant to the specific objective. Data retention periods should be clearly defined and limited.\n",
      "*   **Transparency and Accountability:**  Publicly disclose the deployment of ASS, including its purpose, capabilities, data retention policies, and responsible party.  Establish clear lines of accountability for misuse or breaches of privacy. Independent oversight bodies can provide further scrutiny.\n",
      "*   **Human Oversight:**  Autonomous systems should not operate without human oversight.  Human operators should be responsible for making critical decisions based on the information gathered by ASS and for responding to potential biases or errors.  This prevents automation bias and ensures ethical considerations are always present.\n",
      "*   **Auditing and Evaluation:**  Regularly audit the performance of ASS to ensure they are achieving their intended purpose and not disproportionately impacting specific groups or communities. Evaluate the effectiveness of the system and its impact on privacy.\n",
      "\n",
      "**2. Technical Safeguards for Privacy Protection:**\n",
      "\n",
      "*   **Privacy-Enhancing Technologies (PETs):**  Implement technologies that minimize the collection and storage of personal data. Examples include:\n",
      "    *   **Differential Privacy:** Adding noise to data to protect individual identities while allowing for statistical analysis.\n",
      "    *   **Federated Learning:**  Training AI models on decentralized data sources without directly accessing or sharing raw data.\n",
      "    *   **Homomorphic Encryption:** Performing computations on encrypted data without decrypting it.\n",
      "    *   **Anonymization/Pseudonymization:** Removing or masking identifying information.\n",
      "*   **Edge Computing:** Processing data locally on the device rather than sending it to a central server, reducing the risk of data breaches and improving privacy.\n",
      "*   **Selective Surveillance:**  Design the system to target specific behaviors or events rather than continuously monitoring entire populations.  For example, detecting unusual crowd movements suggestive of a potential threat.\n",
      "*   **Blurring/Masking:**  Blurring faces or license plates in video footage unless specifically needed for investigation.\n",
      "\n",
      "**3. Addressing Diverse Cultural Attitudes:**\n",
      "\n",
      "*   **Community Engagement:**  Engage with diverse communities to understand their specific concerns and values regarding privacy and security. This involves public consultations, workshops, and forums.  Respect local customs and traditions related to privacy.\n",
      "*   **Culturally Sensitive Design:** Tailor the design and deployment of ASS to reflect the specific cultural context.  What is considered acceptable surveillance in one culture may be unacceptable in another.\n",
      "*   **Privacy Impact Assessments (PIA):**  Conduct PIAs that specifically consider the potential impact of ASS on different cultural groups.  These assessments should identify and address any potential biases or discriminatory effects.\n",
      "*   **Multi-Stakeholder Dialogue:**  Establish platforms for dialogue between government agencies, technology developers, civil society organizations, and the public to discuss the ethical and societal implications of ASS.\n",
      "*   **Education and Awareness:**  Educate the public about the capabilities of ASS, the potential risks to privacy, and the safeguards that are in place.  Empower individuals to make informed decisions about their privacy.\n",
      "*   **Variable Consent Mechanisms:**  Explore different consent mechanisms that allow individuals to opt-in or opt-out of certain types of surveillance, depending on their cultural values and preferences.  This might involve different levels of anonymization or data retention.\n",
      "\n",
      "**4. Emphasizing Benefits and Building Trust:**\n",
      "\n",
      "*   **Transparency about Benefits:** Clearly communicate the benefits of ASS to the public, focusing on how it can improve public safety, security, or quality of life.  Provide evidence to support these claims.\n",
      "*   **Demonstrate Accountability:**  Actively address concerns about privacy violations or misuse of data.  Hold those responsible accountable for their actions.\n",
      "*   **Focus on Prevention, Not Just Detection:**  Design ASS to prevent crime and promote positive social outcomes, rather than simply detecting and punishing offenders.  For example, using ASS to improve traffic flow and reduce accidents.\n",
      "*   **Empowerment, Not Just Control:**  Consider how ASS can be used to empower individuals and communities, rather than simply controlling their behavior. For example, providing real-time information about public transportation or emergency situations.\n",
      "\n",
      "**Challenges and Ongoing Considerations:**\n",
      "\n",
      "*   **Bias in Algorithms:**  Algorithms used in ASS can be biased based on the data they are trained on. This can lead to discriminatory outcomes.  Ongoing efforts are needed to identify and mitigate bias in AI.\n",
      "*   **Evolving Technology:**  ASS technology is rapidly evolving, making it difficult to keep pace with the ethical and legal implications.  Continuous monitoring and adaptation of regulations are essential.\n",
      "*   **Global Harmonization:**  International cooperation is needed to develop common standards and best practices for the deployment of ASS.\n",
      "*   **Balancing Security and Freedom:**  Finding the right balance between security and freedom is an ongoing challenge.  Societies must be willing to have difficult conversations about the trade-offs involved.\n",
      "\n",
      "**In conclusion, reconciling the ethical implications of ASS with privacy rights requires a multi-layered approach that combines strong legal frameworks, robust technical safeguards, culturally sensitive engagement, and a commitment to transparency and accountability. There is no one-size-fits-all solution, and ongoing dialogue and adaptation are crucial to ensure that ASS are used responsibly and ethically in a diverse and evolving world.**\n",
      "\n",
      "\n",
      "# Response from competitor 4\n",
      "\n",
      "The deployment of autonomous surveillance systems in public spaces presents a complex ethical challenge that requires balancing collective security with individual privacy rights, especially given diverse cultural perspectives on these values. Here’s a framework for reconciliation:\n",
      "\n",
      "### **1. Contextual and Proportional Deployment**\n",
      "   - **Purpose Limitation**: Surveillance should be narrowly tailored to specific, legitimate purposes (e.g., crime prevention, traffic management) rather than indiscriminate monitoring.\n",
      "   - **Risk-Based Approach**: Deploy systems only in high-risk areas where benefits demonstrably outweigh privacy intrusions (e.g., transport hubs vs. residential neighborhoods).\n",
      "\n",
      "### **2. Legal and Regulatory Safeguards**\n",
      "   - **Transparency**: Publicly disclose the use, scope, and capabilities of surveillance systems, including data retention policies.\n",
      "   - **Consent & Opt-Outs**: Where culturally appropriate, allow opt-outs for non-essential surveillance (e.g., in low-risk areas or private-public spaces like malls).\n",
      "   - **Data Minimization**: Collect only necessary data, anonymize where possible, and implement strict deletion timelines.\n",
      "\n",
      "### **3. Cultural Sensitivity & Public Participation**\n",
      "   - **Community Engagement**: Involve local stakeholders in decision-making to align systems with cultural norms (e.g., some societies prioritize security over privacy, while others resist state monitoring).\n",
      "   - **Adaptive Policies**: Allow regional or municipal flexibility in deployment based on local attitudes (e.g., stricter rules in privacy-conscious regions like the EU vs. more permissive approaches in security-focused contexts).\n",
      "\n",
      "### **4. Technological Mitigations**\n",
      "   - **Privacy-Enhancing Technologies (PETs)**: Use techniques like edge computing (processing data locally without storage), blurring faces in non-critical analysis, or differential privacy to minimize identifiability.\n",
      "   - **Bias Audits**: Regularly test systems for discriminatory outcomes (e.g., racial/gender bias in facial recognition) to prevent harm to marginalized groups.\n",
      "\n",
      "### **5. Oversight & Accountability**\n",
      "   - **Independent Review Boards**: Establish ethics committees with diverse representation to oversee deployments and investigate misuse.\n",
      "   - **Redress Mechanisms**: Provide accessible avenues for individuals to challenge surveillance (e.g., requesting data deletion or filing complaints).\n",
      "\n",
      "### **6. International Standards & Cooperation**\n",
      "   - **Cross-Border Frameworks**: Align with global guidelines (e.g., GDPR principles, OECD AI recommendations) while respecting local variations.\n",
      "   - **Human Rights Alignment**: Ensure systems comply with universal rights (e.g., UN guidelines on privacy in digital surveillance).\n",
      "\n",
      "### **Reconciliation in Practice**\n",
      "- **Example 1**: In a city with high crime but strong privacy concerns, deploy surveillance with real-time anonymization and sunset clauses requiring renewal based on efficacy reviews.  \n",
      "- **Example 2**: In a culture valuing communal safety (e.g., Singapore), emphasize transparency about benefits while allowing opt-outs in non-critical zones.  \n",
      "\n",
      "### **Conclusion**\n",
      "The ethical balance hinges on **proportionality, accountability, and adaptability**. By embedding privacy protections into design, engaging communities, and enforcing strict oversight, societies can harness surveillance benefits without eroding fundamental rights. Cultural diversity demands solutions that are neither one-size-fits-all nor absolute but instead contextually negotiated.\n",
      "\n",
      "# Response from competitor 5\n",
      "\n",
      "Reconciling the ethical implications of deploying autonomous surveillance systems in public spaces with the need to preserve individual privacy rights is a complex issue that involves balancing individual rights with societal needs, while also considering diverse cultural attitudes towards privacy and security. Here are some steps to achieve this balance:\n",
      "\n",
      "1. **Establish clear policies and regulations**: Governments and regulatory bodies should develop and implement clear policies and guidelines for the deployment and use of autonomous surveillance systems in public spaces, taking into account the principles of necessity, proportionality, and transparency.\n",
      "2. **Conduct public consultations and education**: Engage with diverse stakeholders, including community groups, civil society organizations, and individual citizens, to raise awareness about the benefits and risks of autonomous surveillance systems and gather feedback on their concerns and expectations.\n",
      "3. **Implement privacy-enhancing technologies**: Incorporate privacy-enhancing technologies, such as data anonymization, encryption, and secure data storage, into the design and operation of autonomous surveillance systems to minimize the collection and retention of personal data.\n",
      "4. **Define and limit data collection and use**: Clearly define the purposes for which data collected by autonomous surveillance systems can be used, and limit data collection to only what is strictly necessary to achieve those purposes.\n",
      "5. **Ensure accountability and oversight**: Establish independent oversight bodies to monitor the deployment and use of autonomous surveillance systems, investigate complaints, and ensure that operators comply with regulations and guidelines.\n",
      "6. **Respect cultural differences and contextualize deployment**: Consider diverse cultural attitudes towards privacy and security when deploying autonomous surveillance systems, and contextualize their deployment to reflect local norms and values.\n",
      "7. **Foster transparency and explainability**: Provide clear information about the deployment and operation of autonomous surveillance systems, including the data they collect, how it is used, and the algorithms and decision-making processes involved.\n",
      "8. **Implement robust data protection measures**: Implement robust data protection measures, such as access controls, data encryption, and secure data storage, to prevent unauthorized access, misuse, or exploitation of personal data.\n",
      "9. **Ensure human oversight and review**: Implement human oversight and review mechanisms to detect and correct errors, biases, or unfair outcomes resulting from the use of autonomous surveillance systems.\n",
      "10. **Continuously monitor and evaluate**: Continuously monitor and evaluate the impact of autonomous surveillance systems on individual privacy rights and societal security, and make adjustments as needed to ensure that they are used in a way that respects human rights and dignity.\n",
      "\n",
      "**Diverse cultural attitudes towards privacy and security**:\n",
      "\n",
      "1. **Collectivist vs. individualist cultures**: In collectivist cultures, the priority may be on group security and social harmony, while in individualist cultures, the emphasis may be on individual privacy and autonomy.\n",
      "2. **High-context vs. low-context cultures**: In high-context cultures, relationships and social norms may play a larger role in shaping attitudes towards privacy and security, while in low-context cultures, the focus may be on individual rights and freedoms.\n",
      "3. **Different perceptions of risk and trust**: Cultures may have different perceptions of risk and trust, influencing their attitudes towards autonomous surveillance systems and their willingness to accept trade-offs between security and privacy.\n",
      "\n",
      "**Preserving individual privacy rights**:\n",
      "\n",
      "1. **Data minimization**: Collect only the minimum amount of data necessary to achieve the intended purpose.\n",
      "2. **Anonymization and pseudonymization**: Use techniques to anonymize or pseudonymize data, making it more difficult to identify individuals.\n",
      "3. **Access controls**: Implement strict access controls to ensure that only authorized personnel can access and process personal data.\n",
      "4. **Right to opt-out**: Provide individuals with the right to opt-out of being surveilled or to request that their data be deleted.\n",
      "5. **Right to explanation**: Provide individuals with the right to receive explanations about how their data is being used and what decisions are being made about them.\n",
      "\n",
      "By following these steps and considering diverse cultural attitudes towards privacy and security, it is possible to reconcile the ethical implications of deploying autonomous surveillance systems in public spaces with the need to preserve individual privacy rights.\n",
      "\n",
      "# Response from competitor 6\n",
      "\n",
      "Reconciling the ethical implications of deploying autonomous surveillance systems in public spaces with the need to preserve individual privacy rights is a complex task that requires a balanced approach. Here are some steps and considerations to address this challenge while taking into account diverse cultural attitudes:\n",
      "\n",
      "### 1. **Public Consultation and Transparency**\n",
      "- **Engage Stakeholders**: Involve the public, local communities, and privacy advocacy groups in discussions from the outset. Understand their concerns and expectations.\n",
      "- **Transparency**: Clearly communicate how surveillance systems will be used, what data will be collected, who will have access to it, and for what purposes.\n",
      "\n",
      "### 2. **Regulatory Frameworks**\n",
      "- **Legal Compliance**: Ensure that the deployment of surveillance systems adheres to existing laws and regulations regarding privacy rights.\n",
      "- **Data Protection**: Implement robust data protection measures, including encryption, anonymization, and secure storage practices. Ensure compliance with international standards like GDPR or CCPA.\n",
      "\n",
      "### 3. **Cultural Sensitivity**\n",
      "- **Contextual Understanding**: Recognize that attitudes towards privacy and security vary widely across cultures. For example, some societies may prioritize security over individual privacy.\n",
      "- **Tailored Approaches**: Design surveillance policies and technologies to reflect the specific cultural norms and legal frameworks of different regions.\n",
      "\n",
      "### 4. **Ethical Guidelines**\n",
      "- **Proportionate Measures**: Ensure that the scope and intensity of surveillance are proportionate to the risks they aim to mitigate. Avoid over-surveillance.\n",
      "- **Minimization Principles**: Collect only the data that is necessary for achieving legitimate purposes, and retain it for as short a period as possible.\n",
      "\n",
      "### 5. **Technological Safeguards**\n",
      "- **Data Anonymization**: Use techniques like facial blur and anonymization to protect individual identities in surveillance footage.\n",
      "- **Audit Trails**: Implement systems that log access to surveillance data, ensuring accountability and deterring misuse.\n",
      "- **Biometric Data Regulation**: Be cautious with biometrics; obtain explicit consent for the collection of such sensitive data.\n",
      "\n",
      "### 6. **Oversight Mechanisms**\n",
      "- **Independent Review**:\n",
      "**Independent review bodies should periodically assess the impact of surveillance systems on privacy rights.**\n",
      "   - Ombudsman: Appoint an ombudsman to oversee the ethical use of surveillance technologies.\n",
      "- **Ethics Committees**: Establish ethics committees comprising diverse stakeholders (e.g., legal experts, ethicists, community representatives) to monitor and guide the deployment and operation of these systems.\n",
      "\n",
      "### 7. **Educational Outreach**\n",
      "- **Awareness Campaigns:** Educate the public about their rights and the purpose of surveillance systems to avoid misunderstandings.\n",
      "- **Privacy Literacy**: Promote privacy literacy so that individuals understand how their data is being used and can make informed decisions.\n",
      "\n",
      "### 8. **Continuous Evaluation**\n",
      "- **Impact Assessments**: Conduct regular impact assessments to evaluate the effectiveness, fairness, and ethical implications of surveillance systems. Adjust policies as needed.\n",
      "- **Feedback Loops**: Create mechanisms for continuous feedback from affected communities to adapt practices on an ongoing basis.\n",
      "\n",
      "By integrating these considerations, it is possible to deploy autonomous surveillance systems in a manner that respects individual privacy rights while addressing legitimate security concerns across diverse cultural contexts.\n",
      "\n",
      "\n"
     ]
    }
   ],
   "source": [
    "# Prepare the final input for comparison\n",
    "together = \"\"\n",
    "for index, answer in enumerate(answers):\n",
    "    together += f\"# Response from competitor {index+1}\\n\\n\"\n",
    "    together += answer + \"\\n\\n\"\n",
    "print(together)"
   ]
  },
  {
   "cell_type": "markdown",
   "metadata": {},
   "source": [
    "## LLMs as judge"
   ]
  },
  {
   "cell_type": "code",
   "execution_count": 17,
   "metadata": {},
   "outputs": [],
   "source": [
    "judge = f\"\"\"You are judging a competition between {len(competitors)} competitors.\n",
    "Each model has been given this question:\n",
    "\n",
    "{question}\n",
    "\n",
    "Your job is to evaluate each response for clarity and strength of argument, and rank them in order of best to worst.\n",
    "Respond with JSON, and only JSON, with the following format:\n",
    "{{\"results\": [\"best competitor number\", \"second best competitor number\", \"third best competitor number\", ...]}}\n",
    "\n",
    "Here are the responses from each competitor:\n",
    "\n",
    "{together}\n",
    "\n",
    "Now respond with the ranked order of the competitors in a form of a Python list [number of the best competitor, number of second best competitor, ...], nothing else. Do not include markdown formatting, nor code blocks. Return only the list.\"\"\"\n"
   ]
  },
  {
   "cell_type": "code",
   "execution_count": 75,
   "metadata": {},
   "outputs": [],
   "source": [
    "#print(judge)"
   ]
  },
  {
   "cell_type": "code",
   "execution_count": 18,
   "metadata": {},
   "outputs": [],
   "source": [
    "judge_messages = [{\"role\": \"user\", \"content\": judge}]"
   ]
  },
  {
   "cell_type": "markdown",
   "metadata": {},
   "source": [
    "#### A single judge evaluation"
   ]
  },
  {
   "cell_type": "code",
   "execution_count": 19,
   "metadata": {},
   "outputs": [
    {
     "name": "stdout",
     "output_type": "stream",
     "text": [
      "{\"results\": [3, 1, 4, 6, 2, 5]}\n"
     ]
    }
   ],
   "source": [
    "openai = OpenAI()\n",
    "response = openai.chat.completions.create(\n",
    "    model=\"o3-mini\",\n",
    "    messages=judge_messages,\n",
    ")\n",
    "results = response.choices[0].message.content\n",
    "print(results)"
   ]
  },
  {
   "cell_type": "code",
   "execution_count": 22,
   "metadata": {},
   "outputs": [
    {
     "data": {
      "text/plain": [
       "{'results': [3, 1, 4, 6, 2, 5]}"
      ]
     },
     "execution_count": 22,
     "metadata": {},
     "output_type": "execute_result"
    }
   ],
   "source": [
    "ranks"
   ]
  },
  {
   "cell_type": "code",
   "execution_count": null,
   "metadata": {},
   "outputs": [
    {
     "name": "stdout",
     "output_type": "stream",
     "text": [
      "Rank 1: gemini-2.0-flash\n",
      "Rank 2: gpt-4.1-mini\n",
      "Rank 3: deepseek-chat\n",
      "Rank 4: mistral-small:latest\n",
      "Rank 5: claude-3-7-sonnet-latest\n",
      "Rank 6: llama-3.3-70b-versatile\n"
     ]
    }
   ],
   "source": [
    "parsed = json.loads(results)\n",
    "ranks = parsed[\"results\"]\n",
    "for index, result in enumerate(ranks):\n",
    "    competitor = competitors[int(result)-1]\n",
    "    print(f\"Rank {index+1}: {competitor}\")"
   ]
  },
  {
   "cell_type": "markdown",
   "metadata": {},
   "source": [
    "#### Cross, Multi-LLM Evaluation"
   ]
  },
  {
   "cell_type": "code",
   "execution_count": 25,
   "metadata": {},
   "outputs": [
    {
     "data": {
      "text/plain": [
       "[<openai.OpenAI at 0x7364b4239a90>,\n",
       " <anthropic.Anthropic at 0x73649fa882f0>,\n",
       " <openai.OpenAI at 0x73649fa42350>,\n",
       " <openai.OpenAI at 0x73649fa40f50>,\n",
       " <openai.OpenAI at 0x73649fae43e0>,\n",
       " <openai.OpenAI at 0x73649fae7820>]"
      ]
     },
     "execution_count": 25,
     "metadata": {},
     "output_type": "execute_result"
    }
   ],
   "source": [
    "models"
   ]
  },
  {
   "cell_type": "code",
   "execution_count": null,
   "metadata": {},
   "outputs": [],
   "source": [
    "# Query LLMs for their scores (this is asynchronous)\n",
    "import re\n",
    "\n",
    "models_scores = []\n",
    "\n",
    "for index, model in enumerate(models):\n",
    "\n",
    "    if \"claude\" in competitors[index].lower():\n",
    "        response = model.messages.create(model=competitors[index], messages=judge_messages, max_tokens=1000)\n",
    "        model_scoring = response.content[0].text\n",
    "\n",
    "    else:\n",
    "        response = model.chat.completions.create(model=competitors[index], messages=judge_messages)\n",
    "        model_scoring = response.choices[0].message.content\n",
    "\n",
    "    models_scores.append(model_scoring)"
   ]
  },
  {
   "cell_type": "code",
   "execution_count": 27,
   "metadata": {},
   "outputs": [
    {
     "data": {
      "text/plain": [
       "['[3, 1, 4, 6, 2, 5]',\n",
       " '{\"results\": [3, 4, 1, 6, 2, 5]}',\n",
       " '[\"3\", \"4\", \"1\", \"6\", \"5\", \"2\"]\\n',\n",
       " '```json\\n{\"results\": [\"1\", \"4\", \"3\", \"6\", \"2\", \"5\"]}\\n```',\n",
       " '{\"results\": [1, 3, 2, 4, 6, 5]}',\n",
       " '[5, 4, 3, 6, 1, 2]']"
      ]
     },
     "execution_count": 27,
     "metadata": {},
     "output_type": "execute_result"
    }
   ],
   "source": [
    "models_scores"
   ]
  },
  {
   "cell_type": "code",
   "execution_count": 28,
   "metadata": {},
   "outputs": [
    {
     "name": "stdout",
     "output_type": "stream",
     "text": [
      "[[3, 1, 4, 6, 2, 5], [3, 4, 1, 6, 2, 5], [3, 4, 1, 6, 5, 2], [1, 4, 3, 6, 2, 5], [1, 3, 2, 4, 6, 5], [5, 4, 3, 6, 1, 2]]\n"
     ]
    }
   ],
   "source": [
    "# Standardize the scores to a common format\n",
    "import ast\n",
    "import json\n",
    "import re\n",
    "\n",
    "results = []\n",
    "\n",
    "for item in models_scores:\n",
    "    item = item.strip()\n",
    "    \n",
    "    # JSON wrapped in markdown\n",
    "    if item.startswith('```json'):\n",
    "        clean_json = re.sub(r'^```json\\n|```$', '', item).strip()\n",
    "        parsed = json.loads(clean_json)\n",
    "        results.append([int(x) for x in parsed['results']])\n",
    "    \n",
    "    # Plain JSON with results list\n",
    "    elif item.startswith('{') and '\"results\"' in item:\n",
    "        parsed = json.loads(item)\n",
    "        results.append([int(x) for x in parsed['results']])\n",
    "    \n",
    "    # Python-style list string\n",
    "    elif item.startswith('[') and item.endswith(']'):\n",
    "        parsed = ast.literal_eval(item)\n",
    "        results.append([int(x) for x in parsed])\n",
    "    \n",
    "    else:\n",
    "        raise ValueError(f\"Unrecognized format: {item}\")\n",
    "\n",
    "print(results)"
   ]
  },
  {
   "cell_type": "code",
   "execution_count": 29,
   "metadata": {},
   "outputs": [
    {
     "name": "stdout",
     "output_type": "stream",
     "text": [
      "Model ranking results:\n",
      "gpt-4.1-mini\n",
      "   Rank 1: gemini-2.0-flash\n",
      "   Rank 2: gpt-4.1-mini\n",
      "   Rank 3: deepseek-chat\n",
      "   Rank 4: mistral-small:latest\n",
      "   Rank 5: claude-3-7-sonnet-latest\n",
      "   Rank 6: llama-3.3-70b-versatile\n",
      "claude-3-7-sonnet-latest\n",
      "   Rank 1: gemini-2.0-flash\n",
      "   Rank 2: deepseek-chat\n",
      "   Rank 3: gpt-4.1-mini\n",
      "   Rank 4: mistral-small:latest\n",
      "   Rank 5: claude-3-7-sonnet-latest\n",
      "   Rank 6: llama-3.3-70b-versatile\n",
      "gemini-2.0-flash\n",
      "   Rank 1: gemini-2.0-flash\n",
      "   Rank 2: deepseek-chat\n",
      "   Rank 3: gpt-4.1-mini\n",
      "   Rank 4: mistral-small:latest\n",
      "   Rank 5: llama-3.3-70b-versatile\n",
      "   Rank 6: claude-3-7-sonnet-latest\n",
      "deepseek-chat\n",
      "   Rank 1: gpt-4.1-mini\n",
      "   Rank 2: deepseek-chat\n",
      "   Rank 3: gemini-2.0-flash\n",
      "   Rank 4: mistral-small:latest\n",
      "   Rank 5: claude-3-7-sonnet-latest\n",
      "   Rank 6: llama-3.3-70b-versatile\n",
      "llama-3.3-70b-versatile\n",
      "   Rank 1: gpt-4.1-mini\n",
      "   Rank 2: gemini-2.0-flash\n",
      "   Rank 3: claude-3-7-sonnet-latest\n",
      "   Rank 4: deepseek-chat\n",
      "   Rank 5: mistral-small:latest\n",
      "   Rank 6: llama-3.3-70b-versatile\n",
      "mistral-small:latest\n",
      "   Rank 1: llama-3.3-70b-versatile\n",
      "   Rank 2: deepseek-chat\n",
      "   Rank 3: gemini-2.0-flash\n",
      "   Rank 4: mistral-small:latest\n",
      "   Rank 5: gpt-4.1-mini\n",
      "   Rank 6: claude-3-7-sonnet-latest\n"
     ]
    }
   ],
   "source": [
    "print(f\"Model ranking results:\")\n",
    "for index, model in enumerate(models):\n",
    "    print(f\"{competitors[index]}\")\n",
    "    \n",
    "    for index2, result in enumerate(results[index]):\n",
    "        competitor = competitors[int(result)-1]\n",
    "        print(f\"   Rank {index2+1}: {competitor}\")"
   ]
  },
  {
   "cell_type": "code",
   "execution_count": null,
   "metadata": {},
   "outputs": [
    {
     "name": "stdout",
     "output_type": "stream",
     "text": [
      "[2.6666666666666665, 3.3333333333333335, 2.3333333333333335, 5.666666666666667, 3, 4]\n"
     ]
    }
   ],
   "source": [
    "# Average the results (based on the index of the competitors)\n",
    "# Index 0 values → [1, 2, 1, 2]\n",
    "# Index 1 values → [2, 1, 2, 1]\n",
    "# Index 2 values → [3, 3, 3, 3]\n",
    "# Index 3 values → [4, 3, 2, 3]\n",
    "\n",
    "from statistics import mean\n",
    "\n",
    "data = results\n",
    "\n",
    "# Find the maximum length among the lists (normally all lists should be of the same length)\n",
    "max_len = max(len(sublist) for sublist in data)\n",
    "\n",
    "# Compute the average for each index across all lists\n",
    "averages = []\n",
    "for i in range(max_len):\n",
    "    values_at_i = [sublist[i] for sublist in data if i < len(sublist)]\n",
    "    averages.append(mean(values_at_i))\n",
    "\n",
    "print(averages)"
   ]
  },
  {
   "cell_type": "code",
   "execution_count": 108,
   "metadata": {},
   "outputs": [
    {
     "name": "stdout",
     "output_type": "stream",
     "text": [
      "[2.6666666666666665, 3.3333333333333335, 2.3333333333333335, 5.666666666666667, 3.0, 4.0]\n"
     ]
    }
   ],
   "source": [
    "# Transpose the data and calculate the average of each column\n",
    "averages = [sum(col) / len(col) for col in zip(*results)]\n",
    "print(averages)"
   ]
  },
  {
   "cell_type": "code",
   "execution_count": 114,
   "metadata": {},
   "outputs": [
    {
     "name": "stdout",
     "output_type": "stream",
     "text": [
      "[3.0, 4.0, 2.5, 6.0, 2.0, 5.0]\n"
     ]
    }
   ],
   "source": [
    "import statistics\n",
    "\n",
    "# Transpose and compute medians\n",
    "medians = [statistics.median(col) for col in zip(*results)]\n",
    "print(medians)"
   ]
  },
  {
   "cell_type": "code",
   "execution_count": 109,
   "metadata": {},
   "outputs": [
    {
     "name": "stdout",
     "output_type": "stream",
     "text": [
      "['gpt-4.1-mini', 'claude-3-7-sonnet-latest', 'gemini-2.0-flash', 'deepseek-chat', 'llama-3.3-70b-versatile', 'mistral-small:latest']\n",
      "[2, 4, 1, 6, 3, 5]\n"
     ]
    }
   ],
   "source": [
    "# Rank the averages\n",
    "\n",
    "values = averages\n",
    "sorted_values = sorted(set(values))\n",
    "rank_dict = {v: i + 1 for i, v in enumerate(sorted_values)}\n",
    "ranks = [rank_dict[v] for v in values]\n",
    "\n",
    "print(competitors)\n",
    "print(ranks)"
   ]
  },
  {
   "cell_type": "code",
   "execution_count": 120,
   "metadata": {},
   "outputs": [
    {
     "data": {
      "text/plain": [
       "[[3, 1, 4, 6, 2, 5],\n",
       " [3, 4, 1, 6, 2, 5],\n",
       " [3, 4, 1, 6, 5, 2],\n",
       " [1, 4, 3, 6, 2, 5],\n",
       " [1, 3, 2, 4, 6, 5],\n",
       " [5, 4, 3, 6, 1, 2]]"
      ]
     },
     "execution_count": 120,
     "metadata": {},
     "output_type": "execute_result"
    }
   ],
   "source": [
    "rankings"
   ]
  },
  {
   "cell_type": "code",
   "execution_count": 121,
   "metadata": {},
   "outputs": [
    {
     "name": "stdout",
     "output_type": "stream",
     "text": [
      "1. gemini-2.0-flash -- average rank = 1.83\n",
      "2. gpt-4.1-mini -- average rank = 2.50\n",
      "3. deepseek-chat -- average rank = 2.50\n",
      "4. mistral-small:latest -- average rank = 4.17\n",
      "5. claude-3-7-sonnet-latest -- average rank = 5.00\n",
      "6. llama-3.3-70b-versatile -- average rank = 5.00\n"
     ]
    }
   ],
   "source": [
    "from collections import defaultdict\n",
    "\n",
    "#rankings = [\n",
    "#    [3, 1, 4, 6, 2, 5],\n",
    "#    [3, 4, 1, 6, 2, 5],\n",
    "#    [3, 4, 1, 6, 5, 2],\n",
    "#    [1, 4, 3, 6, 2, 5],\n",
    "#    [1, 3, 2, 4, 6, 5],\n",
    "#    [5, 4, 3, 6, 1, 2]\n",
    "#]\n",
    "\n",
    "# Gather all positions per competitor\n",
    "positions = defaultdict(list)\n",
    "\n",
    "for race in rankings:\n",
    "    for place, competitor_id in enumerate(race):\n",
    "        positions[competitor_id].append(place + 1)  # +1 because place 0 = 1st\n",
    "\n",
    "# Compute average position (lower is better)\n",
    "average_ranks = {\n",
    "    competitor: sum(places) / len(places)\n",
    "    for competitor, places in positions.items()\n",
    "}\n",
    "\n",
    "# Sort competitors by average rank\n",
    "ranked_competitors = sorted(average_ranks.items(), key=lambda x: x[1])\n",
    "\n",
    "# Output\n",
    "for i, (competitor, avg_rank) in enumerate(ranked_competitors, start=1):\n",
    "    print(f\"{i}. {competitors[competitor-1]} -- average rank = {avg_rank:.2f}\")"
   ]
  },
  {
   "cell_type": "code",
   "execution_count": null,
   "metadata": {},
   "outputs": [],
   "source": []
  }
 ],
 "metadata": {
  "kernelspec": {
   "display_name": "agents",
   "language": "python",
   "name": "python3"
  },
  "language_info": {
   "codemirror_mode": {
    "name": "ipython",
    "version": 3
   },
   "file_extension": ".py",
   "mimetype": "text/x-python",
   "name": "python",
   "nbconvert_exporter": "python",
   "pygments_lexer": "ipython3",
   "version": "3.13.5"
  }
 },
 "nbformat": 4,
 "nbformat_minor": 2
}
