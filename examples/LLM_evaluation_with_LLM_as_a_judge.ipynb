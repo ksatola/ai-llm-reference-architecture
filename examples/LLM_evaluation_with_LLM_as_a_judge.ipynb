{
 "cells": [
  {
   "cell_type": "markdown",
   "metadata": {},
   "source": [
    "# LLM Models Comparison using LLM as Judge"
   ]
  },
  {
   "cell_type": "markdown",
   "metadata": {},
   "source": [
    "## Import the Needed Python Packages "
   ]
  },
  {
   "cell_type": "code",
   "execution_count": 1,
   "metadata": {},
   "outputs": [],
   "source": [
    "import os\n",
    "import json\n",
    "from dotenv import load_dotenv\n",
    "from openai import OpenAI\n",
    "from anthropic import Anthropic\n",
    "from IPython.display import Markdown, display\n"
   ]
  },
  {
   "cell_type": "code",
   "execution_count": 2,
   "metadata": {},
   "outputs": [
    {
     "data": {
      "text/plain": [
       "True"
      ]
     },
     "execution_count": 2,
     "metadata": {},
     "output_type": "execute_result"
    }
   ],
   "source": [
    "load_dotenv(override=True)"
   ]
  },
  {
   "cell_type": "code",
   "execution_count": 3,
   "metadata": {},
   "outputs": [
    {
     "name": "stdout",
     "output_type": "stream",
     "text": [
      "OpenAI API Key exists and begins sk-proj-\n",
      "Anthropic API Key exists and begins sk-ant-\n",
      "Google API Key exists and begins AI\n",
      "DeepSeek API Key exists and begins sk-\n",
      "Groq API Key exists and begins gsk_\n"
     ]
    }
   ],
   "source": [
    "openai_api_key = os.getenv('OPENAI_API_KEY')\n",
    "anthropic_api_key = os.getenv('ANTHROPIC_API_KEY')\n",
    "google_api_key = os.getenv('GOOGLE_API_KEY')\n",
    "deepseek_api_key = os.getenv('DEEPSEEK_API_KEY')\n",
    "groq_api_key = os.getenv('GROQ_API_KEY')\n",
    "\n",
    "if openai_api_key:\n",
    "    print(f\"OpenAI API Key exists and begins {openai_api_key[:8]}\")\n",
    "else:\n",
    "    print(\"OpenAI API Key not set\")\n",
    "    \n",
    "if anthropic_api_key:\n",
    "    print(f\"Anthropic API Key exists and begins {anthropic_api_key[:7]}\")\n",
    "else:\n",
    "    print(\"Anthropic API Key not set (and this is optional)\")\n",
    "\n",
    "if google_api_key:\n",
    "    print(f\"Google API Key exists and begins {google_api_key[:2]}\")\n",
    "else:\n",
    "    print(\"Google API Key not set (and this is optional)\")\n",
    "\n",
    "if deepseek_api_key:\n",
    "    print(f\"DeepSeek API Key exists and begins {deepseek_api_key[:3]}\")\n",
    "else:\n",
    "    print(\"DeepSeek API Key not set (and this is optional)\")\n",
    "\n",
    "if groq_api_key:\n",
    "    print(f\"Groq API Key exists and begins {groq_api_key[:4]}\")\n",
    "else:\n",
    "    print(\"Groq API Key not set (and this is optional)\")"
   ]
  },
  {
   "cell_type": "markdown",
   "metadata": {},
   "source": [
    "## LLMs evaluation "
   ]
  },
  {
   "cell_type": "code",
   "execution_count": 4,
   "metadata": {},
   "outputs": [
    {
     "name": "stdout",
     "output_type": "stream",
     "text": [
      "[{'role': 'user', 'content': 'Please come up with a challenging, nuanced question that I can ask a number of LLMs to evaluate their intelligence.Answer only with the question, no explanation.'}]\n"
     ]
    }
   ],
   "source": [
    "request = \"Please come up with a challenging, nuanced question that I can ask a number of LLMs to evaluate their intelligence.\"\n",
    "request += \"Answer only with the question, no explanation.\"\n",
    "messages = [{\"role\": \"user\", \"content\": request}]\n",
    "print(messages)"
   ]
  },
  {
   "cell_type": "markdown",
   "metadata": {},
   "source": [
    "### OpenAI to generate a challenge"
   ]
  },
  {
   "cell_type": "code",
   "execution_count": 5,
   "metadata": {},
   "outputs": [
    {
     "name": "stdout",
     "output_type": "stream",
     "text": [
      "If you could design a hypothetical society that optimally balances technological advancement, environmental sustainability, and social equity, what core principles and systems would you implement, and how would you address the inevitable conflicts among these priorities?\n"
     ]
    }
   ],
   "source": [
    "model = OpenAI()\n",
    "response = model.chat.completions.create(\n",
    "    model=\"gpt-4.1-mini\",\n",
    "    messages=messages,\n",
    ")\n",
    "question = response.choices[0].message.content\n",
    "print(question)"
   ]
  },
  {
   "cell_type": "code",
   "execution_count": 6,
   "metadata": {},
   "outputs": [],
   "source": [
    "messages = [{\"role\": \"user\", \"content\": question}]\n",
    "competitors = []\n",
    "answers = []\n",
    "models = []"
   ]
  },
  {
   "cell_type": "markdown",
   "metadata": {},
   "source": [
    "### Response: OpenAI"
   ]
  },
  {
   "cell_type": "code",
   "execution_count": 7,
   "metadata": {},
   "outputs": [
    {
     "data": {
      "text/markdown": [
       "Designing a hypothetical society that optimally balances **technological advancement**, **environmental sustainability**, and **social equity** requires integrating multidisciplinary approaches, values, and adaptive governance structures. Here’s a comprehensive outline of core principles and systems I would implement, along with strategies to manage conflicts among these priorities:\n",
       "\n",
       "---\n",
       "\n",
       "### Core Principles\n",
       "\n",
       "1. **Holistic Well-being as the Goal**  \n",
       "   Prioritize human and planetary well-being over narrow economic metrics like GDP. Success is measured by holistic indicators such as health, happiness, ecological footprint, equity, and innovation impact.\n",
       "\n",
       "2. **Intergenerational Justice**  \n",
       "   Ensure policies and development consider long-term impacts on future generations, embedding sustainability into the legal and cultural frameworks.\n",
       "\n",
       "3. **Inclusive Participation and Deliberative Democracy**  \n",
       "   Empower all stakeholders—citizens, marginalized groups, scientists, and policymakers—to co-create decisions, ensuring diverse voices shape technological and environmental policies.\n",
       "\n",
       "4. **Precautionary and Adaptive Innovation**  \n",
       "   Encourage innovation with precautionary principles, allowing experimentation but with rigorous impact assessments and adaptability to unforeseen consequences.\n",
       "\n",
       "5. **Equity as Structural, Not Just Redistributive**  \n",
       "   Address root causes of social inequity by redesigning systems related to education, healthcare, economy, and governance rather than relying solely on redistribution.\n",
       "\n",
       "6. **Circular and Regenerative Economy**  \n",
       "   Transition from extractive, linear economic models to circular systems that reuse resources, regenerate ecosystems, and minimize waste.\n",
       "\n",
       "---\n",
       "\n",
       "### Systems and Structures\n",
       "\n",
       "#### 1. **Governance and Decision-Making**\n",
       "\n",
       "- **Polycentric Governance:**  \n",
       "  A multi-layered governance model where local, regional, national, and global entities collaborate. Local communities manage resources sustainably; higher levels coordinate large-scale technological innovation and environmental regulation.\n",
       "\n",
       "- **Deliberative Assemblies and Citizen Juries:**  \n",
       "  Use citizens' assemblies regularly to decide ethically charged issues, integrating scientific advice and public values to legitimize tough trade-offs.\n",
       "\n",
       "- **Dynamic Regulatory Sandboxes:**  \n",
       "  Innovation zones where technologies can be tested under close monitoring—balancing advancement with environmental and social safeguards.\n",
       "\n",
       "#### 2. **Technological Innovation Framework**\n",
       "\n",
       "- **Mission-Driven Innovation:**  \n",
       "  Focus technological research on addressing grand challenges aligned with sustainability and equity goals (e.g., renewable energy, carbon capture, affordable healthcare tech).\n",
       "\n",
       "- **Open-Source and Collaborative Platforms:**  \n",
       "  Promote publicly accessible technologies to reduce monopolies, enabling broad-based participation in innovation and diffusion of benefits.\n",
       "\n",
       "- **Technology Impact Assessment:**  \n",
       "  Formalized multidisciplinary review (environmental, social, ethical) before large-scale deployment.\n",
       "\n",
       "#### 3. **Environmental Sustainability Mechanisms**\n",
       "\n",
       "- **Strict Environmental Limits:**  \n",
       "  Enforce ecological boundaries, e.g., carbon budgets, biodiversity preservation zones, water use quotas, backed by transparent monitoring technologies.\n",
       "\n",
       "- **Regenerative Agriculture and Urban Design:**  \n",
       "  Support farming methods that restore soil health, biodiversity corridors in urban planning, green infrastructure, and renewable energy microgrids.\n",
       "\n",
       "- **Decentralized Resource Management:**  \n",
       "  Empower communities to manage natural resources sustainably, supported by real-time data and adaptive management techniques.\n",
       "\n",
       "#### 4. **Social Equity Foundations**\n",
       "\n",
       "- **Universal Basic Services (UBS):**  \n",
       "  Guarantee access to healthcare, education, housing, and digital connectivity enabling full participation in society and technology benefits.\n",
       "\n",
       "- **Equitable Education Systems:**  \n",
       "  Focus on lifelong learning with emphasis on critical thinking, ethics, sustainability literacy, and technological proficiency.\n",
       "\n",
       "- **Inclusive Economic Models:**  \n",
       "  Co-operative enterprises, social entrepreneurship, and platform cooperatives to democratize economic power and share wealth generated by technology.\n",
       "\n",
       "---\n",
       "\n",
       "### Addressing Conflicts Among Priorities\n",
       "\n",
       "Balancing these priorities inevitably involves trade-offs, for example, rapid technological growth might strain the environment or exacerbate inequalities. Strategies to manage conflicts include:\n",
       "\n",
       "1. **Transparent Trade-off Deliberation:**  \n",
       "   Use participatory processes to make explicit trade-offs visible; decisions reflect a collective balance rather than top-down impositions.\n",
       "\n",
       "2. **Scenario Planning and Impact Modeling:**  \n",
       "   Employ advanced modeling to foresee outcomes and unintended consequences, reducing risks and informing adaptive policies.\n",
       "\n",
       "3. **Flexibility and Learning:**  \n",
       "   Adopt adaptive governance that can shift course as new information emerges, avoiding rigid fixes that harm one priority over others.\n",
       "\n",
       "4. **Integrative Policies:**  \n",
       "   Design policies that co-benefit multiple goals—for example, renewable energy projects that create jobs in disadvantaged communities, or tech innovations that reduce resource use while improving access.\n",
       "\n",
       "5. **Conflict Resolution Institutions:**  \n",
       "   Establish impartial bodies to mediate disputes among stakeholders when priorities clash, ensuring procedural justice.\n",
       "\n",
       "---\n",
       "\n",
       "### Summary\n",
       "\n",
       "This hypothetical society is governed by a vision of sustainable prosperity defined holistically, where innovation is responsible and inclusive, the environment is protected through regenerative systems, and equity is structurally embedded. Through participatory governance, adaptive regulation, and integrative policy design, it continuously negotiates tensions among priorities, learning and evolving dynamically toward a balanced and thriving future.\n",
       "\n",
       "---\n",
       "\n",
       "If you'd like, I can also provide concrete examples or explore how such systems might be phased in from current societal conditions!"
      ],
      "text/plain": [
       "<IPython.core.display.Markdown object>"
      ]
     },
     "metadata": {},
     "output_type": "display_data"
    }
   ],
   "source": [
    "model_name = \"gpt-4.1-mini\"\n",
    "\n",
    "response = model.chat.completions.create(model=model_name, messages=messages)\n",
    "answer = response.choices[0].message.content\n",
    "\n",
    "display(Markdown(answer))\n",
    "competitors.append(model_name)\n",
    "answers.append(answer)\n",
    "models.append(model)"
   ]
  },
  {
   "cell_type": "markdown",
   "metadata": {},
   "source": [
    "### Response: Anthropic"
   ]
  },
  {
   "cell_type": "code",
   "execution_count": 8,
   "metadata": {},
   "outputs": [
    {
     "data": {
      "text/markdown": [
       "# Designing a Balanced Society: Technology, Environment, and Equity\n",
       "\n",
       "## Core Principles\n",
       "\n",
       "1. **Long-term Stewardship**: Decisions evaluated on multi-generational timescales, not quarterly profits or election cycles\n",
       "2. **Technological Humility**: Progress paired with precautionary principles and rigorous impact assessment\n",
       "3. **Distributed Resilience**: Power, resources, and decision-making distributed across scales to prevent single points of failure\n",
       "4. **Adaptive Governance**: Systems designed to evolve based on evidence, changing conditions, and diverse perspectives\n",
       "\n",
       "## Key Systems\n",
       "\n",
       "**Economic Structure**:\n",
       "- Mixed economy with strong commons management for natural resources\n",
       "- Market mechanisms with externalities fully priced in\n",
       "- Universal basic services ensuring fundamental needs\n",
       "- Progressive wealth limits to prevent extreme power concentration\n",
       "\n",
       "**Technological Development**:\n",
       "- Public interest technology assessment boards with diverse membership\n",
       "- Open knowledge commons balanced with time-limited IP protections\n",
       "- Research priorities set by participatory processes\n",
       "- Technological benefits distributed equitably\n",
       "\n",
       "**Environmental Systems**:\n",
       "- Circular resource flows modeled on natural systems\n",
       "- Strong biosphere preservation zones\n",
       "- Regenerative agriculture and habitat restoration\n",
       "- Carbon and pollution pricing reflecting true costs\n",
       "\n",
       "## Addressing Conflicts\n",
       "\n",
       "The hardest challenges would come at intersections:\n",
       "\n",
       "- When rapid technological advancement threatens environmental stability, I'd implement staged deployment with careful monitoring\n",
       "- When equity concerns conflict with efficiency, I'd create transparent processes that explicitly weigh tradeoffs and compensate losers\n",
       "- When local autonomy clashes with global needs, I'd build nested governance structures with clear subsidiarity principles\n",
       "\n",
       "The ideal system acknowledges these tensions rather than pretending perfect harmony is possible, creating forums explicitly designed to navigate these difficult tradeoffs democratically."
      ],
      "text/plain": [
       "<IPython.core.display.Markdown object>"
      ]
     },
     "metadata": {},
     "output_type": "display_data"
    }
   ],
   "source": [
    "model_name = \"claude-3-7-sonnet-latest\"\n",
    "\n",
    "model = Anthropic()\n",
    "response = model.messages.create(model=model_name, messages=messages, max_tokens=1000)\n",
    "answer = response.content[0].text\n",
    "\n",
    "display(Markdown(answer))\n",
    "competitors.append(model_name)\n",
    "answers.append(answer)\n",
    "models.append(model)"
   ]
  },
  {
   "cell_type": "markdown",
   "metadata": {},
   "source": [
    "### Response: Google"
   ]
  },
  {
   "cell_type": "code",
   "execution_count": 9,
   "metadata": {},
   "outputs": [
    {
     "data": {
      "text/markdown": [
       "Okay, this is a fascinating thought experiment! Designing a perfectly balanced society is, of course, impossible in reality due to the inherent complexities of human nature and unforeseen consequences. However, we can strive for an optimal balance using guiding principles and adaptive systems. Here's my attempt at outlining a hypothetical society:\n",
       "\n",
       "**Core Principles:**\n",
       "\n",
       "*   **Interconnectedness and Systems Thinking:** The foundation is understanding that everything is interconnected. Actions in one area (technology, environment, society) ripple outwards, impacting the others. Decisions are made holistically, considering long-term consequences.\n",
       "*   **Precautionary Principle:** Where potential harm exists (especially to the environment or future generations), action should be taken to prevent or minimize that harm, even if the science is not yet conclusive.  Burden of proof rests on demonstrating safety.\n",
       "*   **Universal Basic Services (UBS):**  Guaranteed access to essential resources: food, water, shelter, healthcare, education, information, and energy. These are considered human rights, ensuring a baseline level of well-being for all citizens, regardless of economic contribution.\n",
       "*   **Decentralization and Localization:** Emphasizing local production, governance, and resource management where feasible. This increases resilience, reduces transportation costs, and allows communities to tailor solutions to their specific needs.\n",
       "*   **Participatory Democracy and Deliberative Governance:** Citizens are actively involved in decision-making through direct democracy tools, citizen assemblies, and deliberative processes. Expert knowledge is integrated with community values.\n",
       "*   **Regenerative Economy:** Moving beyond simply \"sustainable\" practices.  Focus is on actively restoring and enhancing ecosystems and social systems. Circular economy principles are paramount, minimizing waste and maximizing resource utilization.\n",
       "*   **Ethical Technology Development and Deployment:**  Technology is viewed as a tool, not an end in itself. Development is guided by ethical frameworks that prioritize human well-being, privacy, and social justice.\n",
       "*   **Lifelong Learning and Adaptive Capacity:** Education is not limited to childhood but is a continuous process, emphasizing critical thinking, problem-solving, and adaptability to change. Society fosters a culture of experimentation and learning from mistakes.\n",
       "*   **Intrinsic Value of Nature:** Recognizing that nature has inherent value, independent of its usefulness to humans. This shapes policies related to resource extraction, land use, and conservation.\n",
       "*   **Justice and Equity:** Striving for equitable distribution of resources, opportunities, and burdens. Addressing historical injustices and systemic inequalities.\n",
       "\n",
       "**Systems Implementation:**\n",
       "\n",
       "*   **Economic System:**\n",
       "    *   **Hybrid Economy:** A blend of market mechanisms, cooperative ownership, and public services.\n",
       "    *   **Complementary Currencies:** Local currencies to support regional economies and foster community engagement.\n",
       "    *   **Taxation:** Progressive taxation system that internalizes environmental costs (e.g., carbon tax) and funds universal basic services.\n",
       "    *   **Wealth Redistribution:** Mechanisms to address extreme wealth inequality, such as wealth taxes or inheritance taxes.\n",
       "    *   **Focus on Well-being Indicators:**  Moving beyond GDP as the primary measure of progress, using indicators that reflect social and environmental well-being (e.g., Genuine Progress Indicator).\n",
       "\n",
       "*   **Technological System:**\n",
       "    *   **Open-Source and Collaborative Innovation:** Promoting open access to knowledge and technology to accelerate innovation and ensure wider benefits.\n",
       "    *   **Technology Assessment and Regulation:** Rigorous assessment of the potential social, environmental, and ethical impacts of new technologies *before* widespread deployment.  Independent regulatory bodies with strong enforcement powers.\n",
       "    *   **Decentralized Energy Systems:** Transition to renewable energy sources (solar, wind, geothermal) with decentralized grids and energy storage solutions.\n",
       "    *   **Precision Agriculture:** Using technology to optimize agricultural practices, reduce water consumption, minimize fertilizer use, and enhance soil health.\n",
       "    *   **Sustainable Manufacturing:** Embracing circular economy principles, using sustainable materials, and minimizing waste in manufacturing processes.\n",
       "    *   **AI Ethics and Governance:**  Developing ethical guidelines and regulations for artificial intelligence to prevent bias, ensure accountability, and protect privacy.\n",
       "\n",
       "*   **Environmental System:**\n",
       "    *   **Protected Areas:** Establishing and maintaining extensive protected areas for biodiversity conservation and ecosystem services.\n",
       "    *   **Ecological Restoration:** Investing in the restoration of degraded ecosystems (forests, wetlands, coral reefs).\n",
       "    *   **Water Management:** Implementing integrated water resource management strategies that prioritize water conservation, efficient irrigation, and wastewater treatment.\n",
       "    *   **Sustainable Agriculture:** Promoting agroecological farming practices that enhance soil health, reduce reliance on synthetic inputs, and support biodiversity.\n",
       "    *   **Climate Change Mitigation and Adaptation:** Aggressively reducing greenhouse gas emissions through renewable energy transition, energy efficiency measures, and carbon sequestration.  Developing strategies to adapt to the impacts of climate change, such as sea-level rise and extreme weather events.\n",
       "\n",
       "*   **Social System:**\n",
       "    *   **Education for Sustainability:** Integrating sustainability principles into all levels of education, fostering environmental literacy, and promoting responsible citizenship.\n",
       "    *   **Community Building:** Supporting community initiatives that promote social cohesion, resilience, and civic engagement.\n",
       "    *   **Healthcare:** Universal healthcare system that emphasizes preventive care, mental health services, and equitable access.\n",
       "    *   **Justice System:** Restorative justice practices that focus on rehabilitation, reconciliation, and addressing the root causes of crime.\n",
       "    *   **Media and Information:** Promoting independent, fact-based journalism and addressing misinformation and disinformation. Supporting media literacy education.\n",
       "\n",
       "**Addressing Conflicts:**\n",
       "\n",
       "The key to managing conflicts lies in transparent decision-making processes, robust stakeholder engagement, and a commitment to adaptive management. Here are some specific approaches:\n",
       "\n",
       "*   **Multi-Criteria Decision Analysis (MCDA):** Using MCDA to evaluate different policy options based on a range of criteria (economic, social, environmental) and stakeholder preferences.\n",
       "*   **Scenario Planning:** Developing and analyzing different future scenarios to anticipate potential challenges and opportunities.\n",
       "*   **Adaptive Management:**  Recognizing that the future is uncertain, policies are implemented as experiments, with ongoing monitoring and adjustments based on feedback.\n",
       "*   **Conflict Resolution Mechanisms:** Establishing independent bodies to mediate disputes between stakeholders and ensure fair and equitable outcomes.\n",
       "*   **Trade-offs and Prioritization:**  Acknowledging that some trade-offs are inevitable. Making these trade-offs transparently and democratically, based on the best available evidence and ethical considerations. For example, a new renewable energy project might impact a local ecosystem. The decision to proceed would involve a thorough environmental impact assessment, stakeholder consultations, and mitigation measures to minimize harm. Compensation or restoration efforts might be required.\n",
       "*   **Emphasis on Collaboration and Dialogue:** Fostering a culture of collaboration and dialogue among different stakeholders, encouraging them to find common ground and develop mutually beneficial solutions.\n",
       "\n",
       "**Challenges and Limitations:**\n",
       "\n",
       "*   **Human Nature:** Overcoming inherent biases, self-interest, and resistance to change.\n",
       "*   **Complexity:** Managing the complexity of interconnected systems and anticipating unintended consequences.\n",
       "*   **Power Dynamics:** Addressing power imbalances and ensuring that marginalized voices are heard.\n",
       "*   **Global Cooperation:** Achieving global cooperation on issues such as climate change, resource management, and technological development.\n",
       "*   **Unforeseen Events:**  Adapting to unexpected events and crises.\n",
       "\n",
       "**Conclusion:**\n",
       "\n",
       "This hypothetical society is not a utopia, but rather a framework for continuous improvement. It is based on the understanding that technological advancement, environmental sustainability, and social equity are not mutually exclusive goals, but rather interconnected aspects of a thriving society. By embracing systems thinking, ethical principles, and participatory governance, we can create a society that is both prosperous and just for all. The design is meant to be flexible, adaptive, and constantly evolving based on new knowledge and experiences. It requires a fundamental shift in values, from individualistic consumerism to collective well-being and planetary stewardship.\n"
      ],
      "text/plain": [
       "<IPython.core.display.Markdown object>"
      ]
     },
     "metadata": {},
     "output_type": "display_data"
    }
   ],
   "source": [
    "model = OpenAI(api_key=google_api_key, base_url=\"https://generativelanguage.googleapis.com/v1beta/openai/\")\n",
    "model_name = \"gemini-2.0-flash\"\n",
    "\n",
    "response = model.chat.completions.create(model=model_name, messages=messages)\n",
    "answer = response.choices[0].message.content\n",
    "\n",
    "display(Markdown(answer))\n",
    "competitors.append(model_name)\n",
    "answers.append(answer)\n",
    "models.append(model)"
   ]
  },
  {
   "cell_type": "markdown",
   "metadata": {},
   "source": [
    "### Response: Deepseek"
   ]
  },
  {
   "cell_type": "code",
   "execution_count": 10,
   "metadata": {},
   "outputs": [
    {
     "data": {
      "text/markdown": [
       "Designing a hypothetical society that optimally balances **technological advancement**, **environmental sustainability**, and **social equity** requires a holistic, adaptive framework that integrates these priorities while managing trade-offs. Below are core principles, systems, and conflict-resolution strategies:\n",
       "\n",
       "---\n",
       "\n",
       "### **Core Principles**  \n",
       "1. **Regenerative Stewardship**  \n",
       "   - The economy operates within **planetary boundaries**, prioritizing circular production, renewable energy, and ecosystem restoration.  \n",
       "   - **\"Do no harm\"** is replaced with **\"actively regenerate\"**—industries must prove net-positive environmental impact.  \n",
       "\n",
       "2. **Distributed Innovation**  \n",
       "   - Technology is democratized: open-source platforms, decentralized energy grids, and localized manufacturing (e.g., 3D printing) reduce monopolies.  \n",
       "   - AI and automation are directed toward **public goods** (e.g., healthcare, education, climate modeling) rather than surveillance or labor exploitation.  \n",
       "\n",
       "3. **Equitable Access by Design**  \n",
       "   - **Universal Basic Services** (housing, healthcare, education, internet) are guaranteed via public-private-commons partnerships.  \n",
       "   - **Wealth/Resource Caps** prevent extreme inequality (e.g., maximum income ratios, land ownership limits).  \n",
       "\n",
       "4. **Participatory Governance**  \n",
       "   - **Citizen Assemblies** with algorithmic support (e.g., AI-facilitated deliberation) guide long-term policy, balancing expert knowledge with public values.  \n",
       "   - **Local Autonomy** within global frameworks lets communities adapt solutions (e.g., urban farming vs. vertical agriculture).  \n",
       "\n",
       "5. **Resilience Over Growth**  \n",
       "   - Success metrics shift from GDP to **well-being indices** (health, leisure, ecological health).  \n",
       "   - **Jubilee Mechanisms** forgive unsustainable debts (personal, national) to reset inequities.  \n",
       "\n",
       "---\n",
       "\n",
       "### **Key Systems**  \n",
       "1. **Energy & Production**  \n",
       "   - **100% Renewable Microgrids** with storage backups, paired with degrowth in extractive sectors.  \n",
       "   - **Closed-Loop Manufacturing**: Mandatory producer responsibility for waste (e.g., \"right to repair\" laws).  \n",
       "\n",
       "2. **Food Systems**  \n",
       "   - **Agroecology & Lab-Grown Proteins**: Transition subsidies from industrial agriculture to regenerative farming and cellular agriculture.  \n",
       "   - **Food Sovereignty**: Communities control land use to prevent corporate monocultures.  \n",
       "\n",
       "3. **Technology Governance**  \n",
       "   - **Precautionary Principle**: New tech must pass societal impact assessments (e.g., banning facial recognition in policing).  \n",
       "   - **Public Data Trusts**: Personal data is a collective resource, not a commodity.  \n",
       "\n",
       "4. **Economic Structure**  \n",
       "   - **Post-Capitalist Models**: Cooperatives, commons-based peer production, and gift economies supplement markets.  \n",
       "   - **Carbon/Resource Taxes**: Fees fund universal dividends or green R&D.  \n",
       "\n",
       "5. **Education & Culture**  \n",
       "   - **Critical Thinking & Empathy Training**: Schools teach systems thinking, conflict resolution, and ecological literacy.  \n",
       "   - **Media Reform**: Algorithms prioritize factual, non-polarizing content; ad-driven models are replaced by public funding.  \n",
       "\n",
       "---\n",
       "\n",
       "### **Conflict Resolution Strategies**  \n",
       "1. **Trade-off Transparency**  \n",
       "   - Use **participatory modeling** (e.g., simulations) to visualize how choices impact equity, ecology, and tech progress.  \n",
       "\n",
       "2. **Iterative Adaptation**  \n",
       "   - **Policy \"Sandboxes\"**: Test solutions in pilot regions (e.g., a city banning private cars) before scaling.  \n",
       "\n",
       "3. **Redistribution Mechanisms**  \n",
       "   - When tech displaces workers, **automation taxes** fund retraining or reduced work hours (e.g., 4-day weeks).  \n",
       "\n",
       "4. **Conflict Arbitration**  \n",
       "   - **Multistakeholder Councils** mediate disputes (e.g., Indigenous land rights vs. renewable energy projects) with binding ecological/social impact criteria.  \n",
       "\n",
       "5. **Cultural Shifts**  \n",
       "   - **Narrative Change**: Elevate stories of interdependence (e.g., \"sufficiency\" over consumerism) via art and media.  \n",
       "\n",
       "---\n",
       "\n",
       "### **Example Scenario: Urban Expansion vs. Greenbelts**  \n",
       "- **Conflict**: A city needs housing (equity) but risks destroying wetlands (sustainability).  \n",
       "- **Solution**:  \n",
       "  1. **Citizen Assembly** debates options, informed by ecological data.  \n",
       "  2. **Compromise**: High-density eco-housing with mandatory green roofs, paired with wetland restoration offsets.  \n",
       "  3. **Funding**: Tax luxury developments to subsidize affordable units.  \n",
       "\n",
       "---\n",
       "\n",
       "### **Conclusion**  \n",
       "This society thrives by **embedding equity and sustainability into technological design**, using democratic governance to navigate tensions, and valuing resilience over short-term gains. Conflicts become opportunities for innovation rather than zero-sum battles. The goal isn’t perfection, but **dynamic balance**—a civilization that learns, adapts, and uplifts all life.  \n",
       "\n",
       "Would you emphasize any additional principles or systems?"
      ],
      "text/plain": [
       "<IPython.core.display.Markdown object>"
      ]
     },
     "metadata": {},
     "output_type": "display_data"
    }
   ],
   "source": [
    "model = OpenAI(api_key=deepseek_api_key, base_url=\"https://api.deepseek.com/v1\")\n",
    "model_name = \"deepseek-chat\"\n",
    "\n",
    "response = model.chat.completions.create(model=model_name, messages=messages)\n",
    "answer = response.choices[0].message.content\n",
    "\n",
    "display(Markdown(answer))\n",
    "competitors.append(model_name)\n",
    "answers.append(answer)\n",
    "models.append(model)"
   ]
  },
  {
   "cell_type": "markdown",
   "metadata": {},
   "source": [
    "### Response: Groq"
   ]
  },
  {
   "cell_type": "code",
   "execution_count": 11,
   "metadata": {},
   "outputs": [
    {
     "data": {
      "text/markdown": [
       "Designing a hypothetical society that balances technological advancement, environmental sustainability, and social equity requires a multifaceted approach. Here are the core principles and systems I would implement, along with strategies to address potential conflicts:\n",
       "\n",
       "**Core Principles:**\n",
       "\n",
       "1. **Circular Economy**: Design production and consumption systems that minimize waste, promote recycling, and utilize renewable resources.\n",
       "2. **Social and Environmental Justice**: Ensure equal access to resources, opportunities, and benefits for all members of society, regardless of race, gender, class, or ability.\n",
       "3. **Participatory Governance**: Foster inclusive, transparent, and accountable decision-making processes that involve diverse stakeholders and prioritize the well-being of both people and the planet.\n",
       "4. **Technological Innovation**: Encourage the development and application of sustainable, environmentally benign technologies that support social equity and environmental sustainability.\n",
       "5. **Education and Lifelong Learning**: Provide access to quality education and skills training, enabling individuals to adapt to changing technological and environmental landscapes.\n",
       "\n",
       "**Systems:**\n",
       "\n",
       "1. **Renewable Energy Grid**: Transition to 100% renewable energy sources, such as solar, wind, and hydroelectric power, to minimize greenhouse gas emissions and ensure energy security.\n",
       "2. **Sustainable Agriculture**: Implement regenerative agriculture practices that prioritize soil health, biodiversity, and efficient water use, reducing synthetic fertilizers and pesticides.\n",
       "3. **Closed-Loop Production**: Design manufacturing systems that minimize waste, use recycled materials, and promote product reuse and recycling.\n",
       "4. **Universal Basic Services**: Provide essential services like healthcare, education, and social welfare programs to ensure a basic level of well-being for all members of society.\n",
       "5. **Green Infrastructure**: Invest in urban planning, green spaces, and eco-friendly transportation systems to promote sustainable cities and reduce environmental impacts.\n",
       "\n",
       "**Addressing Conflicts:**\n",
       "\n",
       "1. **Trade-Off Analysis**: Regularly assess the potential trade-offs between technological advancement, environmental sustainability, and social equity to identify areas where compromises can be made.\n",
       "2. **Stakeholder Engagement**: Foster dialogue and collaboration among diverse stakeholders, including community groups, businesses, and government agencies, to ensure that all perspectives are considered.\n",
       "3. **Adaptive Governance**: Establish a flexible, iterative governance framework that can respond to emerging challenges and opportunities, balancing short-term needs with long-term sustainability goals.\n",
       "4. **Innovation Funding**: Allocate resources to support research and development of sustainable technologies, as well as social and environmental innovation initiatives.\n",
       "5. **Monitoring and Evaluation**: Establish a robust monitoring and evaluation system to track progress, identify areas for improvement, and adjust policies and programs accordingly.\n",
       "\n",
       "**Conflict Resolution Strategies:**\n",
       "\n",
       "1. **Mediation and Facilitation**: Use neutral third-party facilitators to help resolve conflicts and find mutually beneficial solutions.\n",
       "2. **Consensus-Based Decision-Making**: Foster a culture of consensus-based decision-making, where all stakeholders work together to find solutions that balance competing interests.\n",
       "3. **Compromise and Trade-Offs**: Identify areas where compromise is possible, and negotiate trade-offs that balance competing priorities.\n",
       "4. **Education and Awareness**: Provide education and awareness programs to help stakeholders understand the interconnectedness of technological, environmental, and social issues.\n",
       "5. **Incentives and disincentives**: Implement incentives for sustainable practices and disincentives for unsustainable behaviors, such as carbon pricing or pollution taxes.\n",
       "\n",
       "**Implementation Roadmap:**\n",
       "\n",
       "1. **Short-Term (0-5 years)**: Establish a national or global task force to develop a comprehensive plan for transitioning to a sustainable, equitable society.\n",
       "2. **Medium-Term (5-20 years)**: Implement pilot projects and demonstration initiatives to test and refine sustainable technologies, policies, and practices.\n",
       "3. **Long-Term (20-50 years)**: Scale up successful initiatives, integrate sustainable practices into mainstream culture, and continue to monitor and evaluate progress.\n",
       "4. **Continuous Improvement**: Regularly assess and adjust policies, programs, and technologies to ensure that the society remains on a path toward optimal balance between technological advancement, environmental sustainability, and social equity.\n",
       "\n",
       "By implementing these core principles, systems, and conflict resolution strategies, a hypothetical society can strive to achieve a balance between technological advancement, environmental sustainability, and social equity, creating a more just, resilient, and thriving world for all."
      ],
      "text/plain": [
       "<IPython.core.display.Markdown object>"
      ]
     },
     "metadata": {},
     "output_type": "display_data"
    }
   ],
   "source": [
    "model = OpenAI(api_key=groq_api_key, base_url=\"https://api.groq.com/openai/v1\")\n",
    "model_name = \"llama-3.3-70b-versatile\"\n",
    "\n",
    "response = model.chat.completions.create(model=model_name, messages=messages)\n",
    "answer = response.choices[0].message.content\n",
    "\n",
    "display(Markdown(answer))\n",
    "competitors.append(model_name)\n",
    "answers.append(answer)\n",
    "models.append(model)"
   ]
  },
  {
   "cell_type": "markdown",
   "metadata": {},
   "source": [
    "### Response: Ollama (local service): mistral-small, 25b"
   ]
  },
  {
   "cell_type": "code",
   "execution_count": 12,
   "metadata": {},
   "outputs": [
    {
     "name": "stdout",
     "output_type": "stream",
     "text": [
      "\u001b[?2026h\u001b[?25l\u001b[1Gpulling manifest ⠋ \u001b[K\u001b[?25h\u001b[?2026l\u001b[?2026h\u001b[?25l\u001b[1Gpulling manifest ⠙ \u001b[K\u001b[?25h\u001b[?2026l\u001b[?2026h\u001b[?25l\u001b[1Gpulling manifest ⠹ \u001b[K\u001b[?25h\u001b[?2026l\u001b[?2026h\u001b[?25l\u001b[1Gpulling manifest ⠸ \u001b[K\u001b[?25h\u001b[?2026l\u001b[?2026h\u001b[?25l\u001b[1Gpulling manifest ⠼ \u001b[K\u001b[?25h\u001b[?2026l\u001b[?2026h\u001b[?25l\u001b[1Gpulling manifest ⠴ \u001b[K\u001b[?25h\u001b[?2026l\u001b[?2026h\u001b[?25l\u001b[1Gpulling manifest \u001b[K\n",
      "pulling 102a747c1376: 100% ▕██████████████████▏  14 GB                         \u001b[K\n",
      "pulling 6db27cd4e277: 100% ▕██████████████████▏  695 B                         \u001b[K\n",
      "pulling 6d7b25ffd247: 100% ▕██████████████████▏  644 B                         \u001b[K\n",
      "pulling 43070e2d4e53: 100% ▕██████████████████▏  11 KB                         \u001b[K\n",
      "pulling e0daf17ff83e: 100% ▕██████████████████▏   21 B                         \u001b[K\n",
      "pulling 41ffc852c4b6: 100% ▕██████████████████▏  562 B                         \u001b[K\n",
      "verifying sha256 digest \u001b[K\n",
      "writing manifest \u001b[K\n",
      "success \u001b[K\u001b[?25h\u001b[?2026l\n"
     ]
    }
   ],
   "source": [
    "# Run `ollama serve` in the terminal first\n",
    "#!ollama pull llama3.2:latest\n",
    "!ollama pull mistral-small:latest # https://ollama.com/library/mistral-small"
   ]
  },
  {
   "cell_type": "code",
   "execution_count": 13,
   "metadata": {},
   "outputs": [
    {
     "data": {
      "text/markdown": [
       "Designing a hypothetical society that optimizes technological advancement, environmental sustainability, and social equity requires a multi-faceted approach. Here are some core principles and systems I would implement, along with strategies to address potential conflicts:\n",
       "\n",
       "### Core Principles\n",
       "\n",
       "1. **Equitable Access to Resources:**\n",
       "   - Ensure everyone has access to basic needs such as clean water, food, healthcare, and education.\n",
       "   - Implement Universal Basic Income (UBI) or similar programs to provide financial security.\n",
       "\n",
       "2. **Sustainable Practices:**\n",
       "   - Foster a circular economy where waste is minimized and resources are reused.\n",
       "   - Promote renewable energy sources like solar, wind, and hydro power.\n",
       "   - Encourage regenerative agriculture and sustainable forestry practices.\n",
       "\n",
       "3. **Innovation with Ethics:**\n",
       "   - Develop technologies that prioritize environmental and social benefits over immediate profits.\n",
       "   - Ensure transparency in technological development to mitigate risks and biases.\n",
       "\n",
       "4. **Democratic Governance:**\n",
       "   - Implement participatory governance where citizens have a direct say in decision-making processes.\n",
       "   - Encourage diversity and inclusion in leadership roles to reflect the society at large.\n",
       "\n",
       "5. **Education and Lifelong Learning:**\n",
       "   - Provide high-quality education that focuses on critical thinking, environmental literacy, and technological skills.\n",
       "   - Support continuous learning programs to adapt to changing technological landscapes.\n",
       "\n",
       "6. **Community and Collaboration:**\n",
       "   - Foster a culture of community and collaboration over individualism.\n",
       "   - Encourage cross-sector partnerships between government, private sector, and civil society.\n",
       "\n",
       "### Systems Implementation\n",
       "\n",
       "1. **Renewable Energy Infrastructure:**\n",
       "   - Invest in widespread renewable energy grids and storage systems.\n",
       "   - Provide incentives for individuals and businesses to adopt renewable energy solutions.\n",
       "\n",
       "2. **Eco-Cities Design:**\n",
       "   - Urban planning should prioritize green spaces, sustainable transportation (e.g., electric vehicles, public transit), and energy-efficient buildings.\n",
       "\n",
       "3. **Agriculture Innovation:**\n",
       "   - Implement vertical farming and aquaponics to reduce land use and water consumption.\n",
       "   - Support local farming initiatives and community-supported agriculture.\n",
       "\n",
       "4. **Ethical AI and Automation:**\n",
       "   - Develop robust regulations for AI to ensure it benefits society as a whole and doesn't exacerbate inequality.\n",
       "   - Ensure automation increases productivity without displacing jobs, possibly through a job guarantee program or shorter work weeks.\n",
       "\n",
       "5. **Social Safety Nets:**\n",
       "   - Establish comprehensive social welfare programs that support those transitioning in the economy due to technological changes.\n",
       "   - Provide lifelong learning opportunities for continuous skill development.\n",
       "\n",
       "### Addressing Conflicts\n",
       "\n",
       "1. **Conflict Resolution Mechanisms:**\n",
       "   - Create independent regulatory bodies with oversight on each sector (technology, environment, and society) while ensuring they collaborate rather than operate in isolation.\n",
       "   - Implement a conflict resolution framework to mediate disputes between competing priorities.\n",
       "\n",
       "2. **Balanced Legislative Framework:**\n",
       "   - Legislate balanced policies that ensure all three pillars are equally considered, such as mandating environmental impact assessments for significant technological projects and vice versa.\n",
       "   - Use cost-benefit analyses that quantitatively measure social benefits versus technological innovations and environmental impacts.\n",
       "\n",
       "3. **Public Engagement and Participation:**\n",
       "   - Involve the public in decision-making processes through referendums and community consultations to foster understanding and consensus on complex issues.\n",
       "   - Use crowdfunding models and collaborative platforms to support initiatives led by community groups rather than top-down approaches only.\n",
       "\n",
       "### Example Scenario\n",
       "\n",
       "Consider a scenario where a new technological advancement, like advanced AI systems for agriculture, promises significant agricultural productivity gains but could also lead to job displacement in rural areas. The society would address such challenges through:\n",
       "\n",
       "1. **Preemptive Training Programs:**\n",
       "   - Implement re-training programs that target farmers and agronomists, offering them skill development opportunities relevant to technological advancements.\n",
       "\n",
       "2. **Incentivizing Adaptation:**\n",
       "   - Provide tax breaks or subsidies for adopting AI-enhanced agricultural practices while ensuring fair employment transitions.\n",
       "\n",
       "3. **Localized Community Support:**\n",
       "   - Support local economies transitioning towards tech-enhanced agriculture by creating support groups and community-driven projects.\n",
       "\n",
       "By balancing technological advancement, sustainability, and equity through participatory governance and innovative solutions, this hypothetical society strives to be resilient and inclusive in the face of ongoing challenges."
      ],
      "text/plain": [
       "<IPython.core.display.Markdown object>"
      ]
     },
     "metadata": {},
     "output_type": "display_data"
    }
   ],
   "source": [
    "model = OpenAI(base_url='http://localhost:11434/v1', api_key='ollama')\n",
    "model_name = \"mistral-small:latest\"\n",
    "\n",
    "response = model.chat.completions.create(model=model_name, messages=messages)\n",
    "answer = response.choices[0].message.content\n",
    "\n",
    "display(Markdown(answer))\n",
    "competitors.append(model_name)\n",
    "answers.append(answer)\n",
    "models.append(model)"
   ]
  },
  {
   "cell_type": "markdown",
   "metadata": {},
   "source": [
    "## Comparison"
   ]
  },
  {
   "cell_type": "code",
   "execution_count": 14,
   "metadata": {},
   "outputs": [
    {
     "name": "stdout",
     "output_type": "stream",
     "text": [
      "['gpt-4.1-mini', 'claude-3-7-sonnet-latest', 'gemini-2.0-flash', 'deepseek-chat', 'llama-3.3-70b-versatile', 'mistral-small:latest']\n"
     ]
    }
   ],
   "source": [
    "print(competitors)\n",
    "#print(answers)"
   ]
  },
  {
   "cell_type": "code",
   "execution_count": 15,
   "metadata": {},
   "outputs": [],
   "source": [
    "#for competitor, answer in zip(competitors, answers):\n",
    "#    print(f\"Competitor: {competitor}\\n\\n{answer}\")"
   ]
  },
  {
   "cell_type": "code",
   "execution_count": 16,
   "metadata": {},
   "outputs": [
    {
     "name": "stdout",
     "output_type": "stream",
     "text": [
      "# Response from competitor 1\n",
      "\n",
      "Designing a hypothetical society that optimally balances **technological advancement**, **environmental sustainability**, and **social equity** requires integrating multidisciplinary approaches, values, and adaptive governance structures. Here’s a comprehensive outline of core principles and systems I would implement, along with strategies to manage conflicts among these priorities:\n",
      "\n",
      "---\n",
      "\n",
      "### Core Principles\n",
      "\n",
      "1. **Holistic Well-being as the Goal**  \n",
      "   Prioritize human and planetary well-being over narrow economic metrics like GDP. Success is measured by holistic indicators such as health, happiness, ecological footprint, equity, and innovation impact.\n",
      "\n",
      "2. **Intergenerational Justice**  \n",
      "   Ensure policies and development consider long-term impacts on future generations, embedding sustainability into the legal and cultural frameworks.\n",
      "\n",
      "3. **Inclusive Participation and Deliberative Democracy**  \n",
      "   Empower all stakeholders—citizens, marginalized groups, scientists, and policymakers—to co-create decisions, ensuring diverse voices shape technological and environmental policies.\n",
      "\n",
      "4. **Precautionary and Adaptive Innovation**  \n",
      "   Encourage innovation with precautionary principles, allowing experimentation but with rigorous impact assessments and adaptability to unforeseen consequences.\n",
      "\n",
      "5. **Equity as Structural, Not Just Redistributive**  \n",
      "   Address root causes of social inequity by redesigning systems related to education, healthcare, economy, and governance rather than relying solely on redistribution.\n",
      "\n",
      "6. **Circular and Regenerative Economy**  \n",
      "   Transition from extractive, linear economic models to circular systems that reuse resources, regenerate ecosystems, and minimize waste.\n",
      "\n",
      "---\n",
      "\n",
      "### Systems and Structures\n",
      "\n",
      "#### 1. **Governance and Decision-Making**\n",
      "\n",
      "- **Polycentric Governance:**  \n",
      "  A multi-layered governance model where local, regional, national, and global entities collaborate. Local communities manage resources sustainably; higher levels coordinate large-scale technological innovation and environmental regulation.\n",
      "\n",
      "- **Deliberative Assemblies and Citizen Juries:**  \n",
      "  Use citizens' assemblies regularly to decide ethically charged issues, integrating scientific advice and public values to legitimize tough trade-offs.\n",
      "\n",
      "- **Dynamic Regulatory Sandboxes:**  \n",
      "  Innovation zones where technologies can be tested under close monitoring—balancing advancement with environmental and social safeguards.\n",
      "\n",
      "#### 2. **Technological Innovation Framework**\n",
      "\n",
      "- **Mission-Driven Innovation:**  \n",
      "  Focus technological research on addressing grand challenges aligned with sustainability and equity goals (e.g., renewable energy, carbon capture, affordable healthcare tech).\n",
      "\n",
      "- **Open-Source and Collaborative Platforms:**  \n",
      "  Promote publicly accessible technologies to reduce monopolies, enabling broad-based participation in innovation and diffusion of benefits.\n",
      "\n",
      "- **Technology Impact Assessment:**  \n",
      "  Formalized multidisciplinary review (environmental, social, ethical) before large-scale deployment.\n",
      "\n",
      "#### 3. **Environmental Sustainability Mechanisms**\n",
      "\n",
      "- **Strict Environmental Limits:**  \n",
      "  Enforce ecological boundaries, e.g., carbon budgets, biodiversity preservation zones, water use quotas, backed by transparent monitoring technologies.\n",
      "\n",
      "- **Regenerative Agriculture and Urban Design:**  \n",
      "  Support farming methods that restore soil health, biodiversity corridors in urban planning, green infrastructure, and renewable energy microgrids.\n",
      "\n",
      "- **Decentralized Resource Management:**  \n",
      "  Empower communities to manage natural resources sustainably, supported by real-time data and adaptive management techniques.\n",
      "\n",
      "#### 4. **Social Equity Foundations**\n",
      "\n",
      "- **Universal Basic Services (UBS):**  \n",
      "  Guarantee access to healthcare, education, housing, and digital connectivity enabling full participation in society and technology benefits.\n",
      "\n",
      "- **Equitable Education Systems:**  \n",
      "  Focus on lifelong learning with emphasis on critical thinking, ethics, sustainability literacy, and technological proficiency.\n",
      "\n",
      "- **Inclusive Economic Models:**  \n",
      "  Co-operative enterprises, social entrepreneurship, and platform cooperatives to democratize economic power and share wealth generated by technology.\n",
      "\n",
      "---\n",
      "\n",
      "### Addressing Conflicts Among Priorities\n",
      "\n",
      "Balancing these priorities inevitably involves trade-offs, for example, rapid technological growth might strain the environment or exacerbate inequalities. Strategies to manage conflicts include:\n",
      "\n",
      "1. **Transparent Trade-off Deliberation:**  \n",
      "   Use participatory processes to make explicit trade-offs visible; decisions reflect a collective balance rather than top-down impositions.\n",
      "\n",
      "2. **Scenario Planning and Impact Modeling:**  \n",
      "   Employ advanced modeling to foresee outcomes and unintended consequences, reducing risks and informing adaptive policies.\n",
      "\n",
      "3. **Flexibility and Learning:**  \n",
      "   Adopt adaptive governance that can shift course as new information emerges, avoiding rigid fixes that harm one priority over others.\n",
      "\n",
      "4. **Integrative Policies:**  \n",
      "   Design policies that co-benefit multiple goals—for example, renewable energy projects that create jobs in disadvantaged communities, or tech innovations that reduce resource use while improving access.\n",
      "\n",
      "5. **Conflict Resolution Institutions:**  \n",
      "   Establish impartial bodies to mediate disputes among stakeholders when priorities clash, ensuring procedural justice.\n",
      "\n",
      "---\n",
      "\n",
      "### Summary\n",
      "\n",
      "This hypothetical society is governed by a vision of sustainable prosperity defined holistically, where innovation is responsible and inclusive, the environment is protected through regenerative systems, and equity is structurally embedded. Through participatory governance, adaptive regulation, and integrative policy design, it continuously negotiates tensions among priorities, learning and evolving dynamically toward a balanced and thriving future.\n",
      "\n",
      "---\n",
      "\n",
      "If you'd like, I can also provide concrete examples or explore how such systems might be phased in from current societal conditions!\n",
      "\n",
      "# Response from competitor 2\n",
      "\n",
      "# Designing a Balanced Society: Technology, Environment, and Equity\n",
      "\n",
      "## Core Principles\n",
      "\n",
      "1. **Long-term Stewardship**: Decisions evaluated on multi-generational timescales, not quarterly profits or election cycles\n",
      "2. **Technological Humility**: Progress paired with precautionary principles and rigorous impact assessment\n",
      "3. **Distributed Resilience**: Power, resources, and decision-making distributed across scales to prevent single points of failure\n",
      "4. **Adaptive Governance**: Systems designed to evolve based on evidence, changing conditions, and diverse perspectives\n",
      "\n",
      "## Key Systems\n",
      "\n",
      "**Economic Structure**:\n",
      "- Mixed economy with strong commons management for natural resources\n",
      "- Market mechanisms with externalities fully priced in\n",
      "- Universal basic services ensuring fundamental needs\n",
      "- Progressive wealth limits to prevent extreme power concentration\n",
      "\n",
      "**Technological Development**:\n",
      "- Public interest technology assessment boards with diverse membership\n",
      "- Open knowledge commons balanced with time-limited IP protections\n",
      "- Research priorities set by participatory processes\n",
      "- Technological benefits distributed equitably\n",
      "\n",
      "**Environmental Systems**:\n",
      "- Circular resource flows modeled on natural systems\n",
      "- Strong biosphere preservation zones\n",
      "- Regenerative agriculture and habitat restoration\n",
      "- Carbon and pollution pricing reflecting true costs\n",
      "\n",
      "## Addressing Conflicts\n",
      "\n",
      "The hardest challenges would come at intersections:\n",
      "\n",
      "- When rapid technological advancement threatens environmental stability, I'd implement staged deployment with careful monitoring\n",
      "- When equity concerns conflict with efficiency, I'd create transparent processes that explicitly weigh tradeoffs and compensate losers\n",
      "- When local autonomy clashes with global needs, I'd build nested governance structures with clear subsidiarity principles\n",
      "\n",
      "The ideal system acknowledges these tensions rather than pretending perfect harmony is possible, creating forums explicitly designed to navigate these difficult tradeoffs democratically.\n",
      "\n",
      "# Response from competitor 3\n",
      "\n",
      "Okay, this is a fascinating thought experiment! Designing a perfectly balanced society is, of course, impossible in reality due to the inherent complexities of human nature and unforeseen consequences. However, we can strive for an optimal balance using guiding principles and adaptive systems. Here's my attempt at outlining a hypothetical society:\n",
      "\n",
      "**Core Principles:**\n",
      "\n",
      "*   **Interconnectedness and Systems Thinking:** The foundation is understanding that everything is interconnected. Actions in one area (technology, environment, society) ripple outwards, impacting the others. Decisions are made holistically, considering long-term consequences.\n",
      "*   **Precautionary Principle:** Where potential harm exists (especially to the environment or future generations), action should be taken to prevent or minimize that harm, even if the science is not yet conclusive.  Burden of proof rests on demonstrating safety.\n",
      "*   **Universal Basic Services (UBS):**  Guaranteed access to essential resources: food, water, shelter, healthcare, education, information, and energy. These are considered human rights, ensuring a baseline level of well-being for all citizens, regardless of economic contribution.\n",
      "*   **Decentralization and Localization:** Emphasizing local production, governance, and resource management where feasible. This increases resilience, reduces transportation costs, and allows communities to tailor solutions to their specific needs.\n",
      "*   **Participatory Democracy and Deliberative Governance:** Citizens are actively involved in decision-making through direct democracy tools, citizen assemblies, and deliberative processes. Expert knowledge is integrated with community values.\n",
      "*   **Regenerative Economy:** Moving beyond simply \"sustainable\" practices.  Focus is on actively restoring and enhancing ecosystems and social systems. Circular economy principles are paramount, minimizing waste and maximizing resource utilization.\n",
      "*   **Ethical Technology Development and Deployment:**  Technology is viewed as a tool, not an end in itself. Development is guided by ethical frameworks that prioritize human well-being, privacy, and social justice.\n",
      "*   **Lifelong Learning and Adaptive Capacity:** Education is not limited to childhood but is a continuous process, emphasizing critical thinking, problem-solving, and adaptability to change. Society fosters a culture of experimentation and learning from mistakes.\n",
      "*   **Intrinsic Value of Nature:** Recognizing that nature has inherent value, independent of its usefulness to humans. This shapes policies related to resource extraction, land use, and conservation.\n",
      "*   **Justice and Equity:** Striving for equitable distribution of resources, opportunities, and burdens. Addressing historical injustices and systemic inequalities.\n",
      "\n",
      "**Systems Implementation:**\n",
      "\n",
      "*   **Economic System:**\n",
      "    *   **Hybrid Economy:** A blend of market mechanisms, cooperative ownership, and public services.\n",
      "    *   **Complementary Currencies:** Local currencies to support regional economies and foster community engagement.\n",
      "    *   **Taxation:** Progressive taxation system that internalizes environmental costs (e.g., carbon tax) and funds universal basic services.\n",
      "    *   **Wealth Redistribution:** Mechanisms to address extreme wealth inequality, such as wealth taxes or inheritance taxes.\n",
      "    *   **Focus on Well-being Indicators:**  Moving beyond GDP as the primary measure of progress, using indicators that reflect social and environmental well-being (e.g., Genuine Progress Indicator).\n",
      "\n",
      "*   **Technological System:**\n",
      "    *   **Open-Source and Collaborative Innovation:** Promoting open access to knowledge and technology to accelerate innovation and ensure wider benefits.\n",
      "    *   **Technology Assessment and Regulation:** Rigorous assessment of the potential social, environmental, and ethical impacts of new technologies *before* widespread deployment.  Independent regulatory bodies with strong enforcement powers.\n",
      "    *   **Decentralized Energy Systems:** Transition to renewable energy sources (solar, wind, geothermal) with decentralized grids and energy storage solutions.\n",
      "    *   **Precision Agriculture:** Using technology to optimize agricultural practices, reduce water consumption, minimize fertilizer use, and enhance soil health.\n",
      "    *   **Sustainable Manufacturing:** Embracing circular economy principles, using sustainable materials, and minimizing waste in manufacturing processes.\n",
      "    *   **AI Ethics and Governance:**  Developing ethical guidelines and regulations for artificial intelligence to prevent bias, ensure accountability, and protect privacy.\n",
      "\n",
      "*   **Environmental System:**\n",
      "    *   **Protected Areas:** Establishing and maintaining extensive protected areas for biodiversity conservation and ecosystem services.\n",
      "    *   **Ecological Restoration:** Investing in the restoration of degraded ecosystems (forests, wetlands, coral reefs).\n",
      "    *   **Water Management:** Implementing integrated water resource management strategies that prioritize water conservation, efficient irrigation, and wastewater treatment.\n",
      "    *   **Sustainable Agriculture:** Promoting agroecological farming practices that enhance soil health, reduce reliance on synthetic inputs, and support biodiversity.\n",
      "    *   **Climate Change Mitigation and Adaptation:** Aggressively reducing greenhouse gas emissions through renewable energy transition, energy efficiency measures, and carbon sequestration.  Developing strategies to adapt to the impacts of climate change, such as sea-level rise and extreme weather events.\n",
      "\n",
      "*   **Social System:**\n",
      "    *   **Education for Sustainability:** Integrating sustainability principles into all levels of education, fostering environmental literacy, and promoting responsible citizenship.\n",
      "    *   **Community Building:** Supporting community initiatives that promote social cohesion, resilience, and civic engagement.\n",
      "    *   **Healthcare:** Universal healthcare system that emphasizes preventive care, mental health services, and equitable access.\n",
      "    *   **Justice System:** Restorative justice practices that focus on rehabilitation, reconciliation, and addressing the root causes of crime.\n",
      "    *   **Media and Information:** Promoting independent, fact-based journalism and addressing misinformation and disinformation. Supporting media literacy education.\n",
      "\n",
      "**Addressing Conflicts:**\n",
      "\n",
      "The key to managing conflicts lies in transparent decision-making processes, robust stakeholder engagement, and a commitment to adaptive management. Here are some specific approaches:\n",
      "\n",
      "*   **Multi-Criteria Decision Analysis (MCDA):** Using MCDA to evaluate different policy options based on a range of criteria (economic, social, environmental) and stakeholder preferences.\n",
      "*   **Scenario Planning:** Developing and analyzing different future scenarios to anticipate potential challenges and opportunities.\n",
      "*   **Adaptive Management:**  Recognizing that the future is uncertain, policies are implemented as experiments, with ongoing monitoring and adjustments based on feedback.\n",
      "*   **Conflict Resolution Mechanisms:** Establishing independent bodies to mediate disputes between stakeholders and ensure fair and equitable outcomes.\n",
      "*   **Trade-offs and Prioritization:**  Acknowledging that some trade-offs are inevitable. Making these trade-offs transparently and democratically, based on the best available evidence and ethical considerations. For example, a new renewable energy project might impact a local ecosystem. The decision to proceed would involve a thorough environmental impact assessment, stakeholder consultations, and mitigation measures to minimize harm. Compensation or restoration efforts might be required.\n",
      "*   **Emphasis on Collaboration and Dialogue:** Fostering a culture of collaboration and dialogue among different stakeholders, encouraging them to find common ground and develop mutually beneficial solutions.\n",
      "\n",
      "**Challenges and Limitations:**\n",
      "\n",
      "*   **Human Nature:** Overcoming inherent biases, self-interest, and resistance to change.\n",
      "*   **Complexity:** Managing the complexity of interconnected systems and anticipating unintended consequences.\n",
      "*   **Power Dynamics:** Addressing power imbalances and ensuring that marginalized voices are heard.\n",
      "*   **Global Cooperation:** Achieving global cooperation on issues such as climate change, resource management, and technological development.\n",
      "*   **Unforeseen Events:**  Adapting to unexpected events and crises.\n",
      "\n",
      "**Conclusion:**\n",
      "\n",
      "This hypothetical society is not a utopia, but rather a framework for continuous improvement. It is based on the understanding that technological advancement, environmental sustainability, and social equity are not mutually exclusive goals, but rather interconnected aspects of a thriving society. By embracing systems thinking, ethical principles, and participatory governance, we can create a society that is both prosperous and just for all. The design is meant to be flexible, adaptive, and constantly evolving based on new knowledge and experiences. It requires a fundamental shift in values, from individualistic consumerism to collective well-being and planetary stewardship.\n",
      "\n",
      "\n",
      "# Response from competitor 4\n",
      "\n",
      "Designing a hypothetical society that optimally balances **technological advancement**, **environmental sustainability**, and **social equity** requires a holistic, adaptive framework that integrates these priorities while managing trade-offs. Below are core principles, systems, and conflict-resolution strategies:\n",
      "\n",
      "---\n",
      "\n",
      "### **Core Principles**  \n",
      "1. **Regenerative Stewardship**  \n",
      "   - The economy operates within **planetary boundaries**, prioritizing circular production, renewable energy, and ecosystem restoration.  \n",
      "   - **\"Do no harm\"** is replaced with **\"actively regenerate\"**—industries must prove net-positive environmental impact.  \n",
      "\n",
      "2. **Distributed Innovation**  \n",
      "   - Technology is democratized: open-source platforms, decentralized energy grids, and localized manufacturing (e.g., 3D printing) reduce monopolies.  \n",
      "   - AI and automation are directed toward **public goods** (e.g., healthcare, education, climate modeling) rather than surveillance or labor exploitation.  \n",
      "\n",
      "3. **Equitable Access by Design**  \n",
      "   - **Universal Basic Services** (housing, healthcare, education, internet) are guaranteed via public-private-commons partnerships.  \n",
      "   - **Wealth/Resource Caps** prevent extreme inequality (e.g., maximum income ratios, land ownership limits).  \n",
      "\n",
      "4. **Participatory Governance**  \n",
      "   - **Citizen Assemblies** with algorithmic support (e.g., AI-facilitated deliberation) guide long-term policy, balancing expert knowledge with public values.  \n",
      "   - **Local Autonomy** within global frameworks lets communities adapt solutions (e.g., urban farming vs. vertical agriculture).  \n",
      "\n",
      "5. **Resilience Over Growth**  \n",
      "   - Success metrics shift from GDP to **well-being indices** (health, leisure, ecological health).  \n",
      "   - **Jubilee Mechanisms** forgive unsustainable debts (personal, national) to reset inequities.  \n",
      "\n",
      "---\n",
      "\n",
      "### **Key Systems**  \n",
      "1. **Energy & Production**  \n",
      "   - **100% Renewable Microgrids** with storage backups, paired with degrowth in extractive sectors.  \n",
      "   - **Closed-Loop Manufacturing**: Mandatory producer responsibility for waste (e.g., \"right to repair\" laws).  \n",
      "\n",
      "2. **Food Systems**  \n",
      "   - **Agroecology & Lab-Grown Proteins**: Transition subsidies from industrial agriculture to regenerative farming and cellular agriculture.  \n",
      "   - **Food Sovereignty**: Communities control land use to prevent corporate monocultures.  \n",
      "\n",
      "3. **Technology Governance**  \n",
      "   - **Precautionary Principle**: New tech must pass societal impact assessments (e.g., banning facial recognition in policing).  \n",
      "   - **Public Data Trusts**: Personal data is a collective resource, not a commodity.  \n",
      "\n",
      "4. **Economic Structure**  \n",
      "   - **Post-Capitalist Models**: Cooperatives, commons-based peer production, and gift economies supplement markets.  \n",
      "   - **Carbon/Resource Taxes**: Fees fund universal dividends or green R&D.  \n",
      "\n",
      "5. **Education & Culture**  \n",
      "   - **Critical Thinking & Empathy Training**: Schools teach systems thinking, conflict resolution, and ecological literacy.  \n",
      "   - **Media Reform**: Algorithms prioritize factual, non-polarizing content; ad-driven models are replaced by public funding.  \n",
      "\n",
      "---\n",
      "\n",
      "### **Conflict Resolution Strategies**  \n",
      "1. **Trade-off Transparency**  \n",
      "   - Use **participatory modeling** (e.g., simulations) to visualize how choices impact equity, ecology, and tech progress.  \n",
      "\n",
      "2. **Iterative Adaptation**  \n",
      "   - **Policy \"Sandboxes\"**: Test solutions in pilot regions (e.g., a city banning private cars) before scaling.  \n",
      "\n",
      "3. **Redistribution Mechanisms**  \n",
      "   - When tech displaces workers, **automation taxes** fund retraining or reduced work hours (e.g., 4-day weeks).  \n",
      "\n",
      "4. **Conflict Arbitration**  \n",
      "   - **Multistakeholder Councils** mediate disputes (e.g., Indigenous land rights vs. renewable energy projects) with binding ecological/social impact criteria.  \n",
      "\n",
      "5. **Cultural Shifts**  \n",
      "   - **Narrative Change**: Elevate stories of interdependence (e.g., \"sufficiency\" over consumerism) via art and media.  \n",
      "\n",
      "---\n",
      "\n",
      "### **Example Scenario: Urban Expansion vs. Greenbelts**  \n",
      "- **Conflict**: A city needs housing (equity) but risks destroying wetlands (sustainability).  \n",
      "- **Solution**:  \n",
      "  1. **Citizen Assembly** debates options, informed by ecological data.  \n",
      "  2. **Compromise**: High-density eco-housing with mandatory green roofs, paired with wetland restoration offsets.  \n",
      "  3. **Funding**: Tax luxury developments to subsidize affordable units.  \n",
      "\n",
      "---\n",
      "\n",
      "### **Conclusion**  \n",
      "This society thrives by **embedding equity and sustainability into technological design**, using democratic governance to navigate tensions, and valuing resilience over short-term gains. Conflicts become opportunities for innovation rather than zero-sum battles. The goal isn’t perfection, but **dynamic balance**—a civilization that learns, adapts, and uplifts all life.  \n",
      "\n",
      "Would you emphasize any additional principles or systems?\n",
      "\n",
      "# Response from competitor 5\n",
      "\n",
      "Designing a hypothetical society that balances technological advancement, environmental sustainability, and social equity requires a multifaceted approach. Here are the core principles and systems I would implement, along with strategies to address potential conflicts:\n",
      "\n",
      "**Core Principles:**\n",
      "\n",
      "1. **Circular Economy**: Design production and consumption systems that minimize waste, promote recycling, and utilize renewable resources.\n",
      "2. **Social and Environmental Justice**: Ensure equal access to resources, opportunities, and benefits for all members of society, regardless of race, gender, class, or ability.\n",
      "3. **Participatory Governance**: Foster inclusive, transparent, and accountable decision-making processes that involve diverse stakeholders and prioritize the well-being of both people and the planet.\n",
      "4. **Technological Innovation**: Encourage the development and application of sustainable, environmentally benign technologies that support social equity and environmental sustainability.\n",
      "5. **Education and Lifelong Learning**: Provide access to quality education and skills training, enabling individuals to adapt to changing technological and environmental landscapes.\n",
      "\n",
      "**Systems:**\n",
      "\n",
      "1. **Renewable Energy Grid**: Transition to 100% renewable energy sources, such as solar, wind, and hydroelectric power, to minimize greenhouse gas emissions and ensure energy security.\n",
      "2. **Sustainable Agriculture**: Implement regenerative agriculture practices that prioritize soil health, biodiversity, and efficient water use, reducing synthetic fertilizers and pesticides.\n",
      "3. **Closed-Loop Production**: Design manufacturing systems that minimize waste, use recycled materials, and promote product reuse and recycling.\n",
      "4. **Universal Basic Services**: Provide essential services like healthcare, education, and social welfare programs to ensure a basic level of well-being for all members of society.\n",
      "5. **Green Infrastructure**: Invest in urban planning, green spaces, and eco-friendly transportation systems to promote sustainable cities and reduce environmental impacts.\n",
      "\n",
      "**Addressing Conflicts:**\n",
      "\n",
      "1. **Trade-Off Analysis**: Regularly assess the potential trade-offs between technological advancement, environmental sustainability, and social equity to identify areas where compromises can be made.\n",
      "2. **Stakeholder Engagement**: Foster dialogue and collaboration among diverse stakeholders, including community groups, businesses, and government agencies, to ensure that all perspectives are considered.\n",
      "3. **Adaptive Governance**: Establish a flexible, iterative governance framework that can respond to emerging challenges and opportunities, balancing short-term needs with long-term sustainability goals.\n",
      "4. **Innovation Funding**: Allocate resources to support research and development of sustainable technologies, as well as social and environmental innovation initiatives.\n",
      "5. **Monitoring and Evaluation**: Establish a robust monitoring and evaluation system to track progress, identify areas for improvement, and adjust policies and programs accordingly.\n",
      "\n",
      "**Conflict Resolution Strategies:**\n",
      "\n",
      "1. **Mediation and Facilitation**: Use neutral third-party facilitators to help resolve conflicts and find mutually beneficial solutions.\n",
      "2. **Consensus-Based Decision-Making**: Foster a culture of consensus-based decision-making, where all stakeholders work together to find solutions that balance competing interests.\n",
      "3. **Compromise and Trade-Offs**: Identify areas where compromise is possible, and negotiate trade-offs that balance competing priorities.\n",
      "4. **Education and Awareness**: Provide education and awareness programs to help stakeholders understand the interconnectedness of technological, environmental, and social issues.\n",
      "5. **Incentives and disincentives**: Implement incentives for sustainable practices and disincentives for unsustainable behaviors, such as carbon pricing or pollution taxes.\n",
      "\n",
      "**Implementation Roadmap:**\n",
      "\n",
      "1. **Short-Term (0-5 years)**: Establish a national or global task force to develop a comprehensive plan for transitioning to a sustainable, equitable society.\n",
      "2. **Medium-Term (5-20 years)**: Implement pilot projects and demonstration initiatives to test and refine sustainable technologies, policies, and practices.\n",
      "3. **Long-Term (20-50 years)**: Scale up successful initiatives, integrate sustainable practices into mainstream culture, and continue to monitor and evaluate progress.\n",
      "4. **Continuous Improvement**: Regularly assess and adjust policies, programs, and technologies to ensure that the society remains on a path toward optimal balance between technological advancement, environmental sustainability, and social equity.\n",
      "\n",
      "By implementing these core principles, systems, and conflict resolution strategies, a hypothetical society can strive to achieve a balance between technological advancement, environmental sustainability, and social equity, creating a more just, resilient, and thriving world for all.\n",
      "\n",
      "# Response from competitor 6\n",
      "\n",
      "Designing a hypothetical society that optimizes technological advancement, environmental sustainability, and social equity requires a multi-faceted approach. Here are some core principles and systems I would implement, along with strategies to address potential conflicts:\n",
      "\n",
      "### Core Principles\n",
      "\n",
      "1. **Equitable Access to Resources:**\n",
      "   - Ensure everyone has access to basic needs such as clean water, food, healthcare, and education.\n",
      "   - Implement Universal Basic Income (UBI) or similar programs to provide financial security.\n",
      "\n",
      "2. **Sustainable Practices:**\n",
      "   - Foster a circular economy where waste is minimized and resources are reused.\n",
      "   - Promote renewable energy sources like solar, wind, and hydro power.\n",
      "   - Encourage regenerative agriculture and sustainable forestry practices.\n",
      "\n",
      "3. **Innovation with Ethics:**\n",
      "   - Develop technologies that prioritize environmental and social benefits over immediate profits.\n",
      "   - Ensure transparency in technological development to mitigate risks and biases.\n",
      "\n",
      "4. **Democratic Governance:**\n",
      "   - Implement participatory governance where citizens have a direct say in decision-making processes.\n",
      "   - Encourage diversity and inclusion in leadership roles to reflect the society at large.\n",
      "\n",
      "5. **Education and Lifelong Learning:**\n",
      "   - Provide high-quality education that focuses on critical thinking, environmental literacy, and technological skills.\n",
      "   - Support continuous learning programs to adapt to changing technological landscapes.\n",
      "\n",
      "6. **Community and Collaboration:**\n",
      "   - Foster a culture of community and collaboration over individualism.\n",
      "   - Encourage cross-sector partnerships between government, private sector, and civil society.\n",
      "\n",
      "### Systems Implementation\n",
      "\n",
      "1. **Renewable Energy Infrastructure:**\n",
      "   - Invest in widespread renewable energy grids and storage systems.\n",
      "   - Provide incentives for individuals and businesses to adopt renewable energy solutions.\n",
      "\n",
      "2. **Eco-Cities Design:**\n",
      "   - Urban planning should prioritize green spaces, sustainable transportation (e.g., electric vehicles, public transit), and energy-efficient buildings.\n",
      "\n",
      "3. **Agriculture Innovation:**\n",
      "   - Implement vertical farming and aquaponics to reduce land use and water consumption.\n",
      "   - Support local farming initiatives and community-supported agriculture.\n",
      "\n",
      "4. **Ethical AI and Automation:**\n",
      "   - Develop robust regulations for AI to ensure it benefits society as a whole and doesn't exacerbate inequality.\n",
      "   - Ensure automation increases productivity without displacing jobs, possibly through a job guarantee program or shorter work weeks.\n",
      "\n",
      "5. **Social Safety Nets:**\n",
      "   - Establish comprehensive social welfare programs that support those transitioning in the economy due to technological changes.\n",
      "   - Provide lifelong learning opportunities for continuous skill development.\n",
      "\n",
      "### Addressing Conflicts\n",
      "\n",
      "1. **Conflict Resolution Mechanisms:**\n",
      "   - Create independent regulatory bodies with oversight on each sector (technology, environment, and society) while ensuring they collaborate rather than operate in isolation.\n",
      "   - Implement a conflict resolution framework to mediate disputes between competing priorities.\n",
      "\n",
      "2. **Balanced Legislative Framework:**\n",
      "   - Legislate balanced policies that ensure all three pillars are equally considered, such as mandating environmental impact assessments for significant technological projects and vice versa.\n",
      "   - Use cost-benefit analyses that quantitatively measure social benefits versus technological innovations and environmental impacts.\n",
      "\n",
      "3. **Public Engagement and Participation:**\n",
      "   - Involve the public in decision-making processes through referendums and community consultations to foster understanding and consensus on complex issues.\n",
      "   - Use crowdfunding models and collaborative platforms to support initiatives led by community groups rather than top-down approaches only.\n",
      "\n",
      "### Example Scenario\n",
      "\n",
      "Consider a scenario where a new technological advancement, like advanced AI systems for agriculture, promises significant agricultural productivity gains but could also lead to job displacement in rural areas. The society would address such challenges through:\n",
      "\n",
      "1. **Preemptive Training Programs:**\n",
      "   - Implement re-training programs that target farmers and agronomists, offering them skill development opportunities relevant to technological advancements.\n",
      "\n",
      "2. **Incentivizing Adaptation:**\n",
      "   - Provide tax breaks or subsidies for adopting AI-enhanced agricultural practices while ensuring fair employment transitions.\n",
      "\n",
      "3. **Localized Community Support:**\n",
      "   - Support local economies transitioning towards tech-enhanced agriculture by creating support groups and community-driven projects.\n",
      "\n",
      "By balancing technological advancement, sustainability, and equity through participatory governance and innovative solutions, this hypothetical society strives to be resilient and inclusive in the face of ongoing challenges.\n",
      "\n",
      "\n"
     ]
    }
   ],
   "source": [
    "# Prepare the final input for comparison\n",
    "together = \"\"\n",
    "for index, answer in enumerate(answers):\n",
    "    together += f\"# Response from competitor {index+1}\\n\\n\"\n",
    "    together += answer + \"\\n\\n\"\n",
    "print(together)"
   ]
  },
  {
   "cell_type": "markdown",
   "metadata": {},
   "source": [
    "## LLMs as judge"
   ]
  },
  {
   "cell_type": "code",
   "execution_count": 17,
   "metadata": {},
   "outputs": [],
   "source": [
    "judge = f\"\"\"You are judging a competition between {len(competitors)} competitors.\n",
    "Each model has been given this question:\n",
    "\n",
    "{question}\n",
    "\n",
    "Your job is to evaluate each response for clarity and strength of argument, and rank them in order of best to worst.\n",
    "Respond with JSON, and only JSON, with the following format:\n",
    "{{\"results\": [\"best competitor number\", \"second best competitor number\", \"third best competitor number\", ...]}}\n",
    "\n",
    "Here are the responses from each competitor:\n",
    "\n",
    "{together}\n",
    "\n",
    "Now respond with the ranked order of the competitors in a form of a Python list [number of the best competitor, number of second best competitor, ...], nothing else. Do not include markdown formatting, nor code blocks. Return only the list.\"\"\"\n"
   ]
  },
  {
   "cell_type": "code",
   "execution_count": 18,
   "metadata": {},
   "outputs": [],
   "source": [
    "#print(judge)"
   ]
  },
  {
   "cell_type": "code",
   "execution_count": 19,
   "metadata": {},
   "outputs": [],
   "source": [
    "judge_messages = [{\"role\": \"user\", \"content\": judge}]"
   ]
  },
  {
   "cell_type": "markdown",
   "metadata": {},
   "source": [
    "#### A single judge evaluation"
   ]
  },
  {
   "cell_type": "code",
   "execution_count": 20,
   "metadata": {},
   "outputs": [
    {
     "name": "stdout",
     "output_type": "stream",
     "text": [
      "[1, 4, 3, 2, 5, 6]\n"
     ]
    }
   ],
   "source": [
    "openai = OpenAI()\n",
    "response = openai.chat.completions.create(\n",
    "    model=\"o3-mini\",\n",
    "    messages=judge_messages,\n",
    ")\n",
    "results = response.choices[0].message.content\n",
    "print(results)"
   ]
  },
  {
   "cell_type": "code",
   "execution_count": 25,
   "metadata": {},
   "outputs": [
    {
     "data": {
      "text/plain": [
       "'[1, 4, 3, 2, 5, 6]'"
      ]
     },
     "execution_count": 25,
     "metadata": {},
     "output_type": "execute_result"
    }
   ],
   "source": [
    "results"
   ]
  },
  {
   "cell_type": "code",
   "execution_count": 27,
   "metadata": {},
   "outputs": [
    {
     "name": "stdout",
     "output_type": "stream",
     "text": [
      "Rank 1: gpt-4.1-mini\n",
      "Rank 2: deepseek-chat\n",
      "Rank 3: gemini-2.0-flash\n",
      "Rank 4: claude-3-7-sonnet-latest\n",
      "Rank 5: llama-3.3-70b-versatile\n",
      "Rank 6: mistral-small:latest\n"
     ]
    }
   ],
   "source": [
    "import ast\n",
    "\n",
    "#parsed = json.loads(results)\n",
    "#ranks = parsed[\"results\"]\n",
    "#for index, result in enumerate(ranks):\n",
    "\n",
    "parsed = ast.literal_eval(results)\n",
    "results2 = ([int(x) for x in parsed])\n",
    "\n",
    "for index, result in enumerate(results2):\n",
    "    #competitor = competitors[int(result)-1]\n",
    "    competitor = competitors[result-1]\n",
    "    print(f\"Rank {index+1}: {competitor}\")"
   ]
  },
  {
   "cell_type": "markdown",
   "metadata": {},
   "source": [
    "#### Cross, Multi-LLM Evaluation"
   ]
  },
  {
   "cell_type": "code",
   "execution_count": 28,
   "metadata": {},
   "outputs": [
    {
     "data": {
      "text/plain": [
       "[<openai.OpenAI at 0x70b6cb9a9a90>,\n",
       " <anthropic.Anthropic at 0x70b6cb2a0050>,\n",
       " <openai.OpenAI at 0x70b6cb25dbd0>,\n",
       " <openai.OpenAI at 0x70b6cb25fc50>,\n",
       " <openai.OpenAI at 0x70b6cb51bbb0>,\n",
       " <openai.OpenAI at 0x70b6cb102060>]"
      ]
     },
     "execution_count": 28,
     "metadata": {},
     "output_type": "execute_result"
    }
   ],
   "source": [
    "models"
   ]
  },
  {
   "cell_type": "code",
   "execution_count": 40,
   "metadata": {},
   "outputs": [],
   "source": [
    "# Query LLMs for their scores (this is asynchronous)\n",
    "import re\n",
    "\n",
    "models_scores = []\n",
    "\n",
    "for index, model in enumerate(models):\n",
    "\n",
    "    if \"claude\" in competitors[index].lower():\n",
    "        response = model.messages.create(model=competitors[index], messages=judge_messages, max_tokens=1000)\n",
    "        model_scoring = response.content[0].text\n",
    "\n",
    "    else:\n",
    "        response = model.chat.completions.create(model=competitors[index], messages=judge_messages)\n",
    "        model_scoring = response.choices[0].message.content\n",
    "\n",
    "    models_scores.append(model_scoring)"
   ]
  },
  {
   "cell_type": "code",
   "execution_count": 43,
   "metadata": {},
   "outputs": [
    {
     "data": {
      "text/plain": [
       "['[1, 4, 3, 2, 6, 5]',\n",
       " '{\"results\": [1, 3, 4, 2, 6, 5]}',\n",
       " '[\"1\", \"4\", \"3\", \"2\", \"6\", \"5\"]\\n',\n",
       " '```json\\n{\"results\": [\"1\", \"4\", \"3\", \"2\", \"6\", \"5\"]}\\n```',\n",
       " '{\"results\": [1, 4, 2, 6, 3, 5]}',\n",
       " '[1, 5, 6, 2]']"
      ]
     },
     "execution_count": 43,
     "metadata": {},
     "output_type": "execute_result"
    }
   ],
   "source": [
    "models_scores"
   ]
  },
  {
   "cell_type": "code",
   "execution_count": 44,
   "metadata": {},
   "outputs": [
    {
     "name": "stdout",
     "output_type": "stream",
     "text": [
      "[[1, 4, 3, 2, 6, 5], [1, 3, 4, 2, 6, 5], [1, 4, 3, 2, 6, 5], [1, 4, 3, 2, 6, 5], [1, 4, 2, 6, 3, 5], [1, 5, 6, 2]]\n"
     ]
    }
   ],
   "source": [
    "# Standardize the scores to a common format\n",
    "import ast\n",
    "import json\n",
    "import re\n",
    "\n",
    "results = []\n",
    "\n",
    "for item in models_scores:\n",
    "    item = item.strip()\n",
    "    \n",
    "    # JSON wrapped in markdown\n",
    "    if item.startswith('```json'):\n",
    "        clean_json = re.sub(r'^```json\\n|```$', '', item).strip()\n",
    "        parsed = json.loads(clean_json)\n",
    "        results.append([int(x) for x in parsed['results']])\n",
    "    \n",
    "    # Plain JSON with results list\n",
    "    elif item.startswith('{') and '\"results\"' in item:\n",
    "        parsed = json.loads(item)\n",
    "        results.append([int(x) for x in parsed['results']])\n",
    "    \n",
    "    # Python-style list string\n",
    "    elif item.startswith('[') and item.endswith(']'):\n",
    "        parsed = ast.literal_eval(item)\n",
    "        results.append([int(x) for x in parsed])\n",
    "    \n",
    "    else:\n",
    "        raise ValueError(f\"Unrecognized format: {item}\")\n",
    "\n",
    "print(results)"
   ]
  },
  {
   "cell_type": "code",
   "execution_count": 45,
   "metadata": {},
   "outputs": [
    {
     "name": "stdout",
     "output_type": "stream",
     "text": [
      "Model ranking results:\n",
      "gpt-4.1-mini\n",
      "   Rank 1: gpt-4.1-mini\n",
      "   Rank 2: deepseek-chat\n",
      "   Rank 3: gemini-2.0-flash\n",
      "   Rank 4: claude-3-7-sonnet-latest\n",
      "   Rank 5: mistral-small:latest\n",
      "   Rank 6: llama-3.3-70b-versatile\n",
      "claude-3-7-sonnet-latest\n",
      "   Rank 1: gpt-4.1-mini\n",
      "   Rank 2: gemini-2.0-flash\n",
      "   Rank 3: deepseek-chat\n",
      "   Rank 4: claude-3-7-sonnet-latest\n",
      "   Rank 5: mistral-small:latest\n",
      "   Rank 6: llama-3.3-70b-versatile\n",
      "gemini-2.0-flash\n",
      "   Rank 1: gpt-4.1-mini\n",
      "   Rank 2: deepseek-chat\n",
      "   Rank 3: gemini-2.0-flash\n",
      "   Rank 4: claude-3-7-sonnet-latest\n",
      "   Rank 5: mistral-small:latest\n",
      "   Rank 6: llama-3.3-70b-versatile\n",
      "deepseek-chat\n",
      "   Rank 1: gpt-4.1-mini\n",
      "   Rank 2: deepseek-chat\n",
      "   Rank 3: gemini-2.0-flash\n",
      "   Rank 4: claude-3-7-sonnet-latest\n",
      "   Rank 5: mistral-small:latest\n",
      "   Rank 6: llama-3.3-70b-versatile\n",
      "llama-3.3-70b-versatile\n",
      "   Rank 1: gpt-4.1-mini\n",
      "   Rank 2: deepseek-chat\n",
      "   Rank 3: claude-3-7-sonnet-latest\n",
      "   Rank 4: mistral-small:latest\n",
      "   Rank 5: gemini-2.0-flash\n",
      "   Rank 6: llama-3.3-70b-versatile\n",
      "mistral-small:latest\n",
      "   Rank 1: gpt-4.1-mini\n",
      "   Rank 2: llama-3.3-70b-versatile\n",
      "   Rank 3: mistral-small:latest\n",
      "   Rank 4: claude-3-7-sonnet-latest\n"
     ]
    }
   ],
   "source": [
    "print(f\"Model ranking results:\")\n",
    "for index, model in enumerate(models):\n",
    "    print(f\"{competitors[index]}\")\n",
    "    \n",
    "    for index2, result in enumerate(results[index]):\n",
    "        competitor = competitors[int(result)-1]\n",
    "        print(f\"   Rank {index2+1}: {competitor}\")"
   ]
  },
  {
   "cell_type": "code",
   "execution_count": 50,
   "metadata": {},
   "outputs": [
    {
     "name": "stdout",
     "output_type": "stream",
     "text": [
      "[1, 4, 3.5, 2.6666666666666665, 5.4, 5]\n"
     ]
    }
   ],
   "source": [
    "# Average the results (based on the index of the competitors)\n",
    "# Index 0 values → [1, 2, 1, 2]\n",
    "# Index 1 values → [2, 1, 2, 1]\n",
    "# Index 2 values → [3, 3, 3, 3]\n",
    "# Index 3 values → [4, 3, 2, 3]\n",
    "\n",
    "from statistics import mean\n",
    "\n",
    "data = results\n",
    "\n",
    "# Find the maximum length among the lists (normally all lists should be of the same length)\n",
    "max_len = max(len(sublist) for sublist in data)\n",
    "\n",
    "# Compute the average for each index across all lists\n",
    "averages = []\n",
    "for i in range(max_len):\n",
    "    values_at_i = [sublist[i] for sublist in data if i < len(sublist)]\n",
    "    averages.append(mean(values_at_i))\n",
    "\n",
    "print(averages)"
   ]
  },
  {
   "cell_type": "code",
   "execution_count": 47,
   "metadata": {},
   "outputs": [
    {
     "name": "stdout",
     "output_type": "stream",
     "text": [
      "[1.0, 4.0, 3.5, 2.6666666666666665]\n"
     ]
    }
   ],
   "source": [
    "# Transpose the data and calculate the average of each column\n",
    "averages = [sum(col) / len(col) for col in zip(*results)]\n",
    "print(averages)"
   ]
  },
  {
   "cell_type": "code",
   "execution_count": 48,
   "metadata": {},
   "outputs": [
    {
     "name": "stdout",
     "output_type": "stream",
     "text": [
      "[1.0, 4.0, 3.0, 2.0]\n"
     ]
    }
   ],
   "source": [
    "import statistics\n",
    "\n",
    "# Transpose and compute medians\n",
    "medians = [statistics.median(col) for col in zip(*results)]\n",
    "print(medians)"
   ]
  },
  {
   "cell_type": "code",
   "execution_count": 51,
   "metadata": {},
   "outputs": [
    {
     "name": "stdout",
     "output_type": "stream",
     "text": [
      "['gpt-4.1-mini', 'claude-3-7-sonnet-latest', 'gemini-2.0-flash', 'deepseek-chat', 'llama-3.3-70b-versatile', 'mistral-small:latest']\n",
      "[1, 4, 3, 2, 6, 5]\n"
     ]
    }
   ],
   "source": [
    "# Rank the averages\n",
    "\n",
    "values = averages\n",
    "sorted_values = sorted(set(values))\n",
    "rank_dict = {v: i + 1 for i, v in enumerate(sorted_values)}\n",
    "ranks = [rank_dict[v] for v in values]\n",
    "\n",
    "print(competitors)\n",
    "print(ranks)"
   ]
  },
  {
   "cell_type": "code",
   "execution_count": 53,
   "metadata": {},
   "outputs": [],
   "source": [
    "rankings = results"
   ]
  },
  {
   "cell_type": "code",
   "execution_count": 54,
   "metadata": {},
   "outputs": [
    {
     "name": "stdout",
     "output_type": "stream",
     "text": [
      "1. gpt-4.1-mini -- average rank = 1.0000\n",
      "2. deepseek-chat -- average rank = 2.2000\n",
      "3. gemini-2.0-flash -- average rank = 3.2000\n",
      "4. claude-3-7-sonnet-latest -- average rank = 3.8333\n",
      "5. mistral-small:latest -- average rank = 4.5000\n",
      "6. llama-3.3-70b-versatile -- average rank = 5.3333\n"
     ]
    }
   ],
   "source": [
    "from collections import defaultdict\n",
    "\n",
    "#rankings = [\n",
    "#    [3, 1, 4, 6, 2, 5],\n",
    "#    [3, 4, 1, 6, 2, 5],\n",
    "#    [3, 4, 1, 6, 5, 2],\n",
    "#    [1, 4, 3, 6, 2, 5],\n",
    "#    [1, 3, 2, 4, 6, 5],\n",
    "#    [5, 4, 3, 6, 1, 2]\n",
    "#]\n",
    "\n",
    "# Gather all positions per competitor\n",
    "positions = defaultdict(list)\n",
    "\n",
    "for race in rankings:\n",
    "    for place, competitor_id in enumerate(race):\n",
    "        positions[competitor_id].append(place + 1)  # +1 because place 0 = 1st\n",
    "\n",
    "# Compute average position (lower is better)\n",
    "average_ranks = {\n",
    "    competitor: sum(places) / len(places)\n",
    "    for competitor, places in positions.items()\n",
    "}\n",
    "\n",
    "# Sort competitors by average rank\n",
    "ranked_competitors = sorted(average_ranks.items(), key=lambda x: x[1])\n",
    "\n",
    "# Output\n",
    "for i, (competitor, avg_rank) in enumerate(ranked_competitors, start=1):\n",
    "    print(f\"{i}. {competitors[competitor-1]} -- average rank = {avg_rank:.4f}\")"
   ]
  },
  {
   "cell_type": "code",
   "execution_count": null,
   "metadata": {},
   "outputs": [],
   "source": []
  }
 ],
 "metadata": {
  "kernelspec": {
   "display_name": "agents",
   "language": "python",
   "name": "python3"
  },
  "language_info": {
   "codemirror_mode": {
    "name": "ipython",
    "version": 3
   },
   "file_extension": ".py",
   "mimetype": "text/x-python",
   "name": "python",
   "nbconvert_exporter": "python",
   "pygments_lexer": "ipython3",
   "version": "3.13.5"
  }
 },
 "nbformat": 4,
 "nbformat_minor": 2
}
