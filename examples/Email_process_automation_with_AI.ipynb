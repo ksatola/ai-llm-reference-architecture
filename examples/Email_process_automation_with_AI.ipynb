{
 "cells": [
  {
   "cell_type": "markdown",
   "metadata": {},
   "source": [
    "# Email Process Automation with AI"
   ]
  },
  {
   "cell_type": "code",
   "execution_count": 1,
   "metadata": {},
   "outputs": [],
   "source": [
    "from dotenv import load_dotenv\n",
    "from agents import Agent, Runner, trace, function_tool\n",
    "from openai.types.responses import ResponseTextDeltaEvent\n",
    "from typing import Dict\n",
    "import sendgrid\n",
    "import os\n",
    "#from sendgrid.helpers.mail import Mail, Email, To, Content\n",
    "import asyncio\n",
    "import resend\n",
    "import requests"
   ]
  },
  {
   "cell_type": "code",
   "execution_count": 2,
   "metadata": {},
   "outputs": [],
   "source": [
    "load_dotenv(override=True)\n",
    "RESEND_API_KEY = os.getenv(\"RESEND_API_KEY\")"
   ]
  },
  {
   "cell_type": "code",
   "execution_count": 3,
   "metadata": {},
   "outputs": [],
   "source": [
    "resend.api_key = RESEND_API_KEY\n",
    "\n",
    "r = resend.Emails.send({\n",
    "  \"from\": \"test@resend.dev\",\n",
    "  \"to\": \"krzysztof.satola@gmail.com\",\n",
    "  \"subject\": \"Hello World\",\n",
    "  \"html\": \"<p>Congrats on sending your <strong>first email</strong>!</p>\"\n",
    "})"
   ]
  },
  {
   "cell_type": "markdown",
   "metadata": {},
   "source": [
    "## Step 1: Agent workflow"
   ]
  },
  {
   "cell_type": "code",
   "execution_count": 4,
   "metadata": {},
   "outputs": [],
   "source": [
    "instructions1 = \"You are a sales agent working for BikeRent, \\\n",
    "a company that provides bikes for share in Cracow. \\\n",
    "You write professional, serious cold emails.\"\n",
    "\n",
    "instructions2 = \"You are a humorous, engaging sales agent working for BikeRent, \\\n",
    "a company that provides bikes for share in Cracow. \\\n",
    "You write witty, engaging cold emails that are likely to get a response.\"\n",
    "\n",
    "instructions3 = \"You are a busy sales agent working for BikeRent, \\\n",
    "a company that provides bikes for share in Cracow. \\\n",
    "You write concise, to the point cold emails.\""
   ]
  },
  {
   "cell_type": "code",
   "execution_count": 5,
   "metadata": {},
   "outputs": [],
   "source": [
    "sales_agent1 = Agent(\n",
    "        name=\"Professional Sales Agent\",\n",
    "        instructions=instructions1,\n",
    "        model=\"gpt-4o-mini\"\n",
    ")\n",
    "\n",
    "sales_agent2 = Agent(\n",
    "        name=\"Engaging Sales Agent\",\n",
    "        instructions=instructions2,\n",
    "        model=\"gpt-4o-mini\"\n",
    ")\n",
    "\n",
    "sales_agent3 = Agent(\n",
    "        name=\"Busy Sales Agent\",\n",
    "        instructions=instructions3,\n",
    "        model=\"gpt-4o-mini\"\n",
    ")"
   ]
  },
  {
   "cell_type": "code",
   "execution_count": 6,
   "metadata": {},
   "outputs": [
    {
     "data": {
      "text/plain": [
       "Agent(name='Professional Sales Agent', handoff_description=None, tools=[], mcp_servers=[], mcp_config={}, instructions='You are a sales agent working for BikeRent, a company that provides bikes for share in Cracow. You write professional, serious cold emails.', prompt=None, handoffs=[], model='gpt-4o-mini', model_settings=ModelSettings(temperature=None, top_p=None, frequency_penalty=None, presence_penalty=None, tool_choice=None, parallel_tool_calls=None, truncation=None, max_tokens=None, reasoning=None, metadata=None, store=None, include_usage=None, response_include=None, extra_query=None, extra_body=None, extra_headers=None, extra_args=None), input_guardrails=[], output_guardrails=[], output_type=None, hooks=None, tool_use_behavior='run_llm_again', reset_tool_choice=True)"
      ]
     },
     "execution_count": 6,
     "metadata": {},
     "output_type": "execute_result"
    }
   ],
   "source": [
    "sales_agent1"
   ]
  },
  {
   "cell_type": "code",
   "execution_count": 7,
   "metadata": {},
   "outputs": [
    {
     "name": "stdout",
     "output_type": "stream",
     "text": [
      "Subject: Enhance Your Travel Experience in Cracow with BikeRent\n",
      "\n",
      "Dear [Recipient's Name],\n",
      "\n",
      "I hope this message finds you well.\n",
      "\n",
      "I am reaching out to introduce you to BikeRent, a premier bike-sharing service in Cracow designed to enhance your experience in our vibrant city. As more visitors seek sustainable and flexible transportation options, our service offers a convenient solution that promotes both wellness and exploration.\n",
      "\n",
      "With our easy-to-use app, you can quickly find and rent a bike, allowing you to navigate the city at your own pace while taking in the beautiful sights of Cracow. Our fleet includes a variety of bikes to suit all needs, from leisurely rides to more active adventures.\n",
      "\n",
      "**Key Benefits of Partnering with BikeRent:**\n",
      "\n",
      "- **Flexibility:** Rent for a few hours or several days, tailored to your schedule.\n",
      "- **Convenience:** Multiple rental stations located throughout the city.\n",
      "- **Sustainability:** Encourage eco-friendly travel and reduce carbon footprints.\n",
      "\n",
      "I would love the opportunity to discuss how BikeRent can complement your offerings, whether for local residents or visitors. \n",
      "\n",
      "Please let me know a convenient time for us to connect. Thank you for considering BikeRent as a part of your travel experience in Cracow.\n",
      "\n",
      "Best regards,\n",
      "\n",
      "[Your Name]  \n",
      "[Your Position]  \n",
      "BikeRent  \n",
      "[Your Phone Number]  \n",
      "[Your Email Address]  \n",
      "[Website URL]  "
     ]
    }
   ],
   "source": [
    "result = Runner.run_streamed(sales_agent1, input=\"Write a cold sales email\")\n",
    "async for event in result.stream_events():\n",
    "    if event.type == \"raw_response_event\" and isinstance(event.data, ResponseTextDeltaEvent):\n",
    "        print(event.data.delta, end=\"\", flush=True)"
   ]
  },
  {
   "cell_type": "code",
   "execution_count": 8,
   "metadata": {},
   "outputs": [
    {
     "name": "stdout",
     "output_type": "stream",
     "text": [
      "Subject: Elevate Your Business with BikeRent Solutions\n",
      "\n",
      "Dear [Recipient's Name],\n",
      "\n",
      "I hope this message finds you well.\n",
      "\n",
      "My name is [Your Name], and I am reaching out from BikeRent, a premier bike-sharing service operating in Cracow. As cities increasingly embrace sustainable transportation options, we believe that our services can significantly enhance your business offerings and community engagement.\n",
      "\n",
      "At BikeRent, we provide a seamless bike-sharing solution that can be easily integrated into various sectors, from tourism and hospitality to corporate campuses. Our user-friendly platform offers customers an eco-friendly mode of transportation, promoting health, sustainability, and local exploration.\n",
      "\n",
      "Here are a few benefits of partnering with us:\n",
      "\n",
      "1. **Increased Foot Traffic:** Attract more customers to your location by promoting bike rentals as a convenient travel option.\n",
      "2. **Customized Solutions:** Tailored packages to fit your specific needs and enhance your branding.\n",
      "3. **Sustainable Initiative:** Demonstrate your commitment to sustainability, appealing to environmentally-conscious consumers.\n",
      "\n",
      "I would love the opportunity to discuss how BikeRent can add value to your business. Can we schedule a brief call next week to explore potential collaboration?\n",
      "\n",
      "Thank you for considering this opportunity. I look forward to your response.\n",
      "\n",
      "Best regards,\n",
      "\n",
      "[Your Name]  \n",
      "[Your Job Title]  \n",
      "BikeRent  \n",
      "[Your Phone Number]  \n",
      "[Your Email]  \n",
      "[Website URL]  \n",
      "\n",
      "\n",
      "Subject: 🚴‍♂️ Ready to Pedal into Adventure? \n",
      "\n",
      "Hey [Name],\n",
      "\n",
      "Hope your day is smoother than a freshly paved bike path! 😄 \n",
      "\n",
      "I’m reaching out from BikeRent, where we're passionate about two things: bikes and making your life a whole lot more fun. If you’ve ever muttered, “Why walk when you can roll?” you’re in the right place! \n",
      "\n",
      "Imagine this: You're cruising through the stunning streets of Cracow, wind in your hair, feeling like the star of your own action movie. 🚴‍♀️💨 No traffic jams, no parking tickets—just pure unadulterated joy. With our easy-peasy bike-sharing service, you can hop on one of our stylish rides in seconds!\n",
      "\n",
      "Why choose BikeRent, you ask? Here’s the scoop:\n",
      "- **Convenience**: Rent a bike in a few clicks. It’s almost as easy as ordering a pizza… now that’s a win-win! 🍕\n",
      "- **Eco-Friendly**: Save the planet one pedal at a time. Your carbon footprint will thank you, and so will Mother Nature! 🌍\n",
      "- **Explore More**: With endless bike routes, you’ll discover the hidden gems of Cracow that no guidebook can share.\n",
      "\n",
      "So, what do you say? Let’s make your commuting experience a little more *pedal*licious! 😄 \n",
      "\n",
      "If you’re interested in chatting more about our bike-sharing service (or if you just want to swap bike puns), hit reply! \n",
      "\n",
      "Keep it wheely cool,  \n",
      "[Your Name]  \n",
      "BikeRent Cracow 🚴‍♂️\n",
      "\n",
      "P.S. First-time riders can get a shiny discount! Don’t miss out!\n",
      "\n",
      "\n",
      "Subject: Discover Affordable Bike Rentals in Cracow!\n",
      "\n",
      "Hi [Recipient's Name],\n",
      "\n",
      "I hope this message finds you well! I’m reaching out to introduce BikeRent, your go-to solution for hassle-free bike rentals in Cracow.\n",
      "\n",
      "Whether you're looking to explore the city’s beautiful sights or need a sustainable commuting option, we offer a variety of bikes at competitive rates. Our user-friendly app makes renting a breeze.\n",
      "\n",
      "Would you be open to a quick call to discuss how we can help enhance your biking experience in Cracow?\n",
      "\n",
      "Best regards,\n",
      "\n",
      "[Your Name]  \n",
      "[Your Position]  \n",
      "BikeRent  \n",
      "[Your Phone Number]  \n",
      "[Your Email Address]  \n",
      "\n",
      "\n"
     ]
    }
   ],
   "source": [
    "message = \"Write a cold sales email\"\n",
    "\n",
    "with trace(\"Parallel cold emails\"):\n",
    "    results = await asyncio.gather(\n",
    "        Runner.run(sales_agent1, message),\n",
    "        Runner.run(sales_agent2, message),\n",
    "        Runner.run(sales_agent3, message),\n",
    "    )\n",
    "\n",
    "outputs = [result.final_output for result in results]\n",
    "\n",
    "for output in outputs:\n",
    "    print(output + \"\\n\\n\")"
   ]
  },
  {
   "cell_type": "code",
   "execution_count": 9,
   "metadata": {},
   "outputs": [],
   "source": [
    "sales_picker = Agent(\n",
    "    name=\"sales_picker\",\n",
    "    instructions=\"You pick the best cold sales email from the given options. \\\n",
    "Imagine you are a customer and pick the one you are most likely to respond to. \\\n",
    "Do not give an explanation; reply with the selected email only.\",\n",
    "    model=\"gpt-4o-mini\"\n",
    ")"
   ]
  },
  {
   "cell_type": "code",
   "execution_count": 10,
   "metadata": {},
   "outputs": [
    {
     "name": "stdout",
     "output_type": "stream",
     "text": [
      "Best sales email:\n",
      "Subject: Ready to Pedal into Adventure? 🚴‍♂️\n",
      "\n",
      "Hey [Recipient's Name]! \n",
      "\n",
      "Are you tired of being stuck in traffic, clinging to your coffee like a lifeboat in a storm? 🚦☕\n",
      "\n",
      "What if I told you there's a magical way to glide through Cracow’s historic streets, with the wind in your hair and a smile on your face? Introducing BikeRent – your new best friend for two-wheeled adventures!\n",
      "\n",
      "Imagine this: you, a comfy bike, and the breathtaking sights of the Wawel Castle. No better way to impress your friends than to say you “biked past royalty!”\n",
      "\n",
      "Here are some *pedal-tastic* reasons to join the BikeRent family:  \n",
      "- Super easy rental process (you don’t even need to wear spandex!). \n",
      "- Flexible rental periods – whether you're out for a leisurely Sunday ride or an adrenaline-packed commute, we’ve got you covered. \n",
      "- A fleet of bikes that won’t judge you for that extra slice of pizza. 🍕\n",
      "\n",
      "Curious to learn more? I promise it’ll be worth it! Just reply to this email, and I’ll get back to you faster than you can say “saddle up!”\n",
      "\n",
      "Looking forward to making your days in Cracow a bike ride to remember!\n",
      "\n",
      "Best,  \n",
      "[Your Name]  \n",
      "Your Friendly Neighborhood Bike Rent Guru  \n",
      "BikeRent Cracow  \n",
      "P.S. I swear our bikes have more personality than your last Tinder date! 💖\n"
     ]
    }
   ],
   "source": [
    "message = \"Write a cold sales email\"\n",
    "\n",
    "with trace(\"Selection from sales people\"):\n",
    "    results = await asyncio.gather(\n",
    "        Runner.run(sales_agent1, message),\n",
    "        Runner.run(sales_agent2, message),\n",
    "        Runner.run(sales_agent3, message),\n",
    "    )\n",
    "    outputs = [result.final_output for result in results]\n",
    "\n",
    "    emails = \"Cold sales emails:\\n\\n\" + \"\\n\\nEmail:\\n\\n\".join(outputs)\n",
    "\n",
    "    best = await Runner.run(sales_picker, emails)\n",
    "\n",
    "    print(f\"Best sales email:\\n{best.final_output}\")"
   ]
  },
  {
   "cell_type": "markdown",
   "metadata": {},
   "source": [
    "https://platform.openai.com/traces"
   ]
  },
  {
   "cell_type": "markdown",
   "metadata": {},
   "source": [
    "## Step 2: Tools and Agent interactions"
   ]
  },
  {
   "cell_type": "code",
   "execution_count": 11,
   "metadata": {},
   "outputs": [],
   "source": [
    "@function_tool\n",
    "def send_email(subject: str=\"Sales email\", body: str=\"\") -> Dict[str, str]:\n",
    "    \"\"\" Send out an email with the given body to all sales prospects \"\"\"\n",
    "    resend.api_key = RESEND_API_KEY\n",
    "\n",
    "    from_email = \"test@resend.dev\"\n",
    "    to_email = [\"krzysztof.satola@gmail.com\"]\n",
    "    content = f\"<p>{body}</p>\"\n",
    "\n",
    "    resp = resend.Emails.send({\n",
    "        \"from\": from_email,\n",
    "        \"to\": to_email,\n",
    "        \"subject\": subject,\n",
    "        \"html\": content\n",
    "        })\n",
    "    return resp"
   ]
  },
  {
   "cell_type": "code",
   "execution_count": 12,
   "metadata": {},
   "outputs": [],
   "source": [
    "@function_tool\n",
    "def send_email2(subject: str=\"Sales email\", body: str=\"\") -> Dict[str, str]:\n",
    "    \"\"\" Send out an email with the given body to all sales prospects via Resend \"\"\"\n",
    "    \n",
    "    from_email = \"test@resend.dev\"\n",
    "    to_email = \"krzysztof.satola@gmail.com\"\n",
    "    \n",
    "    # Resend API headers and payload\n",
    "    headers = {\n",
    "        \"Authorization\": f\"Bearer {RESEND_API_KEY}\",\n",
    "        \"Content-Type\": \"application/json\"\n",
    "    }\n",
    "    \n",
    "    payload = {\n",
    "        \"from\": f\"Test <{from_email}>\",\n",
    "        \"to\": [to_email],\n",
    "        \"subject\": subject,\n",
    "        \"html\": f\"<p>{body}</p>\"\n",
    "    }\n",
    "    \n",
    "    response = requests.post(\"https://api.resend.com/emails\", json=payload, headers=headers)\n",
    "    \n",
    "    if response.status_code == 202:\n",
    "        return {\"status\": \"success\"}\n",
    "    else:\n",
    "        return {\"status\": \"failure\", \"message\": response.text}"
   ]
  },
  {
   "cell_type": "code",
   "execution_count": 13,
   "metadata": {},
   "outputs": [
    {
     "data": {
      "text/plain": [
       "FunctionTool(name='send_email', description='Send out an email with the given body to all sales prospects', params_json_schema={'properties': {'subject': {'default': 'Sales email', 'title': 'Subject', 'type': 'string'}, 'body': {'default': '', 'title': 'Body', 'type': 'string'}}, 'title': 'send_email_args', 'type': 'object', 'additionalProperties': False, 'required': ['subject', 'body']}, on_invoke_tool=<function function_tool.<locals>._create_function_tool.<locals>._on_invoke_tool at 0x7f4d6fdf0220>, strict_json_schema=True, is_enabled=True)"
      ]
     },
     "execution_count": 13,
     "metadata": {},
     "output_type": "execute_result"
    }
   ],
   "source": [
    "send_email"
   ]
  },
  {
   "cell_type": "code",
   "execution_count": 14,
   "metadata": {},
   "outputs": [
    {
     "data": {
      "text/plain": [
       "FunctionTool(name='sales_agent1', description='Write a cold sales email', params_json_schema={'properties': {'input': {'title': 'Input', 'type': 'string'}}, 'required': ['input'], 'title': 'sales_agent1_args', 'type': 'object', 'additionalProperties': False}, on_invoke_tool=<function function_tool.<locals>._create_function_tool.<locals>._on_invoke_tool at 0x7f4d6ecae0c0>, strict_json_schema=True, is_enabled=True)"
      ]
     },
     "execution_count": 14,
     "metadata": {},
     "output_type": "execute_result"
    }
   ],
   "source": [
    "# Convert the agent to a tool\n",
    "tool1 = sales_agent1.as_tool(tool_name=\"sales_agent1\", tool_description=\"Write a cold sales email\")\n",
    "tool1"
   ]
  },
  {
   "cell_type": "code",
   "execution_count": 15,
   "metadata": {},
   "outputs": [],
   "source": [
    "description = \"Write a cold sales email\"\n",
    "\n",
    "tool1 = sales_agent1.as_tool(tool_name=\"sales_agent1\", tool_description=description)\n",
    "tool2 = sales_agent2.as_tool(tool_name=\"sales_agent2\", tool_description=description)\n",
    "tool3 = sales_agent3.as_tool(tool_name=\"sales_agent3\", tool_description=description)\n",
    "\n",
    "tools = [tool1, tool2, tool3, send_email]\n",
    "\n",
    "#tools"
   ]
  },
  {
   "cell_type": "code",
   "execution_count": 16,
   "metadata": {},
   "outputs": [],
   "source": [
    "# Sales manager agent that uses the sales agents and the email sender tool\n",
    "instructions =\"You are a sales manager working for BikeRent. You use the tools given to you to generate cold sales emails. \\\n",
    "You never generate sales emails yourself; you always use the tools. \\\n",
    "You try all 3 sales_agent tools once before choosing the best one. \\\n",
    "You pick the single best email and use the send_email tool to send the best email (and only the best email) to the user.\"\n",
    "\n",
    "sales_manager = Agent(name=\"Sales Manager\", instructions=instructions, tools=tools, model=\"gpt-4o-mini\")\n",
    "\n",
    "message = \"Send a cold sales email addressed to 'Dear CEO'\"\n",
    "\n",
    "with trace(\"Sales Manager\"):\n",
    "    result = await Runner.run(sales_manager, message)\n",
    "\n",
    "#https://platform.openai.com/logs?api=traces"
   ]
  },
  {
   "cell_type": "markdown",
   "metadata": {},
   "source": [
    "### Handoffs\n",
    "Represent a way an agent can delegate to an agent, passing control to it. Handoffs and Agents-as-tools are similar:\n",
    "- In both cases, an Agent can collaborate with another Agent\n",
    "- With **tools**, control passes back\n",
    "- With **handoffs**, control passes across"
   ]
  },
  {
   "cell_type": "code",
   "execution_count": 17,
   "metadata": {},
   "outputs": [],
   "source": [
    "subject_instructions = \"You can write a subject for a cold sales email. \\\n",
    "You are given a message and you need to write a subject for an email that is likely to get a response.\"\n",
    "\n",
    "html_instructions = \"You can convert a text email body to an HTML email body. \\\n",
    "You are given a text email body which might have some markdown \\\n",
    "and you need to convert it to an HTML email body with simple, clear, compelling layout and design.\"\n",
    "\n",
    "subject_writer = Agent(name=\"Email subject writer\", instructions=subject_instructions, model=\"gpt-4o-mini\")\n",
    "subject_tool = subject_writer.as_tool(tool_name=\"subject_writer\", tool_description=\"Write a subject for a cold sales email\")\n",
    "\n",
    "html_converter = Agent(name=\"HTML email body converter\", instructions=html_instructions, model=\"gpt-4o-mini\")\n",
    "html_tool = html_converter.as_tool(tool_name=\"html_converter\",tool_description=\"Convert a text email body to an HTML email body\")\n"
   ]
  },
  {
   "cell_type": "code",
   "execution_count": 18,
   "metadata": {},
   "outputs": [],
   "source": [
    "# Email manager agent that creates the subject, HTML body for the email and sends it out\n",
    "instructions =\"You are an email formatter and sender. You receive the body of an email to be sent. \\\n",
    "You first use the subject_writer tool to write a subject for the email, then use the html_converter tool to convert the body to HTML. \\\n",
    "Finally, you use the send_email tool to send the email with the subject and HTML body.\"\n",
    "\n",
    "\n",
    "emailer_agent = Agent(\n",
    "    name=\"Email Manager\",\n",
    "    instructions=instructions,\n",
    "    tools=tools,\n",
    "    model=\"gpt-4o-mini\",\n",
    "    handoff_description=\"Convert an email to HTML and send it\")\n"
   ]
  },
  {
   "cell_type": "code",
   "execution_count": 19,
   "metadata": {},
   "outputs": [
    {
     "name": "stdout",
     "output_type": "stream",
     "text": [
      "[FunctionTool(name='sales_agent1', description='Write a cold sales email', params_json_schema={'properties': {'input': {'title': 'Input', 'type': 'string'}}, 'required': ['input'], 'title': 'sales_agent1_args', 'type': 'object', 'additionalProperties': False}, on_invoke_tool=<function function_tool.<locals>._create_function_tool.<locals>._on_invoke_tool at 0x7f4d6ecae160>, strict_json_schema=True, is_enabled=True), FunctionTool(name='sales_agent2', description='Write a cold sales email', params_json_schema={'properties': {'input': {'title': 'Input', 'type': 'string'}}, 'required': ['input'], 'title': 'sales_agent2_args', 'type': 'object', 'additionalProperties': False}, on_invoke_tool=<function function_tool.<locals>._create_function_tool.<locals>._on_invoke_tool at 0x7f4d6ecae200>, strict_json_schema=True, is_enabled=True), FunctionTool(name='sales_agent3', description='Write a cold sales email', params_json_schema={'properties': {'input': {'title': 'Input', 'type': 'string'}}, 'required': ['input'], 'title': 'sales_agent3_args', 'type': 'object', 'additionalProperties': False}, on_invoke_tool=<function function_tool.<locals>._create_function_tool.<locals>._on_invoke_tool at 0x7f4d9002e980>, strict_json_schema=True, is_enabled=True)]\n",
      "[Agent(name='Email Manager', handoff_description='Convert an email to HTML and send it', tools=[FunctionTool(name='sales_agent1', description='Write a cold sales email', params_json_schema={'properties': {'input': {'title': 'Input', 'type': 'string'}}, 'required': ['input'], 'title': 'sales_agent1_args', 'type': 'object', 'additionalProperties': False}, on_invoke_tool=<function function_tool.<locals>._create_function_tool.<locals>._on_invoke_tool at 0x7f4d6ecae160>, strict_json_schema=True, is_enabled=True), FunctionTool(name='sales_agent2', description='Write a cold sales email', params_json_schema={'properties': {'input': {'title': 'Input', 'type': 'string'}}, 'required': ['input'], 'title': 'sales_agent2_args', 'type': 'object', 'additionalProperties': False}, on_invoke_tool=<function function_tool.<locals>._create_function_tool.<locals>._on_invoke_tool at 0x7f4d6ecae200>, strict_json_schema=True, is_enabled=True), FunctionTool(name='sales_agent3', description='Write a cold sales email', params_json_schema={'properties': {'input': {'title': 'Input', 'type': 'string'}}, 'required': ['input'], 'title': 'sales_agent3_args', 'type': 'object', 'additionalProperties': False}, on_invoke_tool=<function function_tool.<locals>._create_function_tool.<locals>._on_invoke_tool at 0x7f4d9002e980>, strict_json_schema=True, is_enabled=True), FunctionTool(name='send_email', description='Send out an email with the given body to all sales prospects', params_json_schema={'properties': {'subject': {'default': 'Sales email', 'title': 'Subject', 'type': 'string'}, 'body': {'default': '', 'title': 'Body', 'type': 'string'}}, 'title': 'send_email_args', 'type': 'object', 'additionalProperties': False, 'required': ['subject', 'body']}, on_invoke_tool=<function function_tool.<locals>._create_function_tool.<locals>._on_invoke_tool at 0x7f4d6fdf0220>, strict_json_schema=True, is_enabled=True)], mcp_servers=[], mcp_config={}, instructions='You are an email formatter and sender. You receive the body of an email to be sent. You first use the subject_writer tool to write a subject for the email, then use the html_converter tool to convert the body to HTML. Finally, you use the send_email tool to send the email with the subject and HTML body.', prompt=None, handoffs=[], model='gpt-4o-mini', model_settings=ModelSettings(temperature=None, top_p=None, frequency_penalty=None, presence_penalty=None, tool_choice=None, parallel_tool_calls=None, truncation=None, max_tokens=None, reasoning=None, metadata=None, store=None, include_usage=None, response_include=None, extra_query=None, extra_body=None, extra_headers=None, extra_args=None), input_guardrails=[], output_guardrails=[], output_type=None, hooks=None, tool_use_behavior='run_llm_again', reset_tool_choice=True)]\n"
     ]
    }
   ],
   "source": [
    "tools = [tool1, tool2, tool3]\n",
    "handoffs = [emailer_agent]\n",
    "print(tools)\n",
    "print(handoffs)"
   ]
  },
  {
   "cell_type": "markdown",
   "metadata": {},
   "source": [
    "## Complete workflow"
   ]
  },
  {
   "cell_type": "code",
   "execution_count": 20,
   "metadata": {},
   "outputs": [],
   "source": [
    "sales_manager_instructions = \"You are a sales manager working for BikeRent. You use the tools given to you to generate cold sales emails. \\\n",
    "You never generate sales emails yourself; you always use the tools. \\\n",
    "You try all 3 sales agent tools at least once before choosing the best one. \\\n",
    "You can use the tools multiple times if you're not satisfied with the results from the first try. \\\n",
    "You select the single best email using your own judgement of which email will be most effective. \\\n",
    "After picking the email, you handoff to the Email Manager agent to format and send the email.\"\n",
    "\n",
    "\n",
    "sales_manager = Agent(\n",
    "    name=\"Sales Manager\",\n",
    "    instructions=sales_manager_instructions,\n",
    "    tools=tools,\n",
    "    handoffs=handoffs,\n",
    "    model=\"gpt-4o-mini\")\n",
    "\n",
    "message = \"Send out a cold sales email addressed to Dear CEO from Krzysztof\"\n",
    "\n",
    "with trace(\"Automated Cold Email Campaign\"):\n",
    "    result = await Runner.run(sales_manager, message)\n",
    "\n",
    "#https://platform.openai.com/traces"
   ]
  },
  {
   "cell_type": "code",
   "execution_count": null,
   "metadata": {},
   "outputs": [],
   "source": []
  }
 ],
 "metadata": {
  "kernelspec": {
   "display_name": "agents",
   "language": "python",
   "name": "python3"
  },
  "language_info": {
   "codemirror_mode": {
    "name": "ipython",
    "version": 3
   },
   "file_extension": ".py",
   "mimetype": "text/x-python",
   "name": "python",
   "nbconvert_exporter": "python",
   "pygments_lexer": "ipython3",
   "version": "3.13.5"
  }
 },
 "nbformat": 4,
 "nbformat_minor": 2
}
